{
 "cells": [
  {
   "cell_type": "markdown",
   "id": "e3951d84",
   "metadata": {},
   "source": [
    "# Goutham Selvakumar\n",
    "# Assignment - 2 (DSC 478)\n",
    "# Question 1\n",
    "\n",
    "K-Nearest-Neighbor (KNN) classification on Newsgroups\n",
    "\n",
    "a. [5 pts] Load the data sets, including the train and test matrices as well as the train and test labels. Show the top 20 terms in the decreasing order of total training frequency (total number of occurences of the term across all documents in the training data). Then plot the distribtution of term frequencies in the training data (using a line plot similar to class examples)."
   ]
  },
  {
   "cell_type": "code",
   "execution_count": 1,
   "id": "6bfecaa0",
   "metadata": {},
   "outputs": [],
   "source": [
    "#Importing the packages\n",
    "import numpy as np\n",
    "import pandas as pd\n",
    "import matplotlib.pyplot as plt"
   ]
  },
  {
   "cell_type": "code",
   "execution_count": 2,
   "id": "16f7c59b",
   "metadata": {},
   "outputs": [],
   "source": [
    "#Loading the files and running \n",
    "tr_Matrix = pd.read_table(\"C:/Users/admin/Desktop/trainMatrixModified.txt\", header = None)\n",
    "te_Matrix = pd.read_table(\"C:/Users/admin/Desktop/testMatrixModified.txt\", header = None)\n",
    "tr_lables = pd.read_table(\"C:/Users/admin/Desktop/trainClasses.txt\",header = None, index_col=0)\n",
    "te_lables = pd.read_table(\"C:/Users/admin/Desktop/testClasses.txt\",header = None, index_col=0)\n",
    "terms = pd.read_table(\"C:/Users/admin/Desktop/modifiedterms.txt\", header = None)"
   ]
  },
  {
   "cell_type": "code",
   "execution_count": 3,
   "id": "f70e4b51",
   "metadata": {},
   "outputs": [
    {
     "data": {
      "text/plain": [
       "(5500, 200)"
      ]
     },
     "execution_count": 3,
     "metadata": {},
     "output_type": "execute_result"
    }
   ],
   "source": [
    "te_Matrix.shape"
   ]
  },
  {
   "cell_type": "code",
   "execution_count": 4,
   "id": "7e96f807",
   "metadata": {},
   "outputs": [
    {
     "data": {
      "text/html": [
       "<div>\n",
       "<style scoped>\n",
       "    .dataframe tbody tr th:only-of-type {\n",
       "        vertical-align: middle;\n",
       "    }\n",
       "\n",
       "    .dataframe tbody tr th {\n",
       "        vertical-align: top;\n",
       "    }\n",
       "\n",
       "    .dataframe thead th {\n",
       "        text-align: right;\n",
       "    }\n",
       "</style>\n",
       "<table border=\"1\" class=\"dataframe\">\n",
       "  <thead>\n",
       "    <tr style=\"text-align: right;\">\n",
       "      <th></th>\n",
       "      <th>0</th>\n",
       "      <th>1</th>\n",
       "      <th>2</th>\n",
       "      <th>3</th>\n",
       "      <th>4</th>\n",
       "      <th>5</th>\n",
       "      <th>6</th>\n",
       "      <th>7</th>\n",
       "      <th>8</th>\n",
       "      <th>9</th>\n",
       "      <th>...</th>\n",
       "      <th>790</th>\n",
       "      <th>791</th>\n",
       "      <th>792</th>\n",
       "      <th>793</th>\n",
       "      <th>794</th>\n",
       "      <th>795</th>\n",
       "      <th>796</th>\n",
       "      <th>797</th>\n",
       "      <th>798</th>\n",
       "      <th>799</th>\n",
       "    </tr>\n",
       "  </thead>\n",
       "  <tbody>\n",
       "    <tr>\n",
       "      <th>0</th>\n",
       "      <td>2.0</td>\n",
       "      <td>0.0</td>\n",
       "      <td>0.0</td>\n",
       "      <td>2.0</td>\n",
       "      <td>2.0</td>\n",
       "      <td>0.0</td>\n",
       "      <td>0.0</td>\n",
       "      <td>0.0</td>\n",
       "      <td>0.0</td>\n",
       "      <td>0.0</td>\n",
       "      <td>...</td>\n",
       "      <td>0.0</td>\n",
       "      <td>0.0</td>\n",
       "      <td>0.0</td>\n",
       "      <td>0.0</td>\n",
       "      <td>0.0</td>\n",
       "      <td>0.0</td>\n",
       "      <td>0.0</td>\n",
       "      <td>0.0</td>\n",
       "      <td>0.0</td>\n",
       "      <td>0.0</td>\n",
       "    </tr>\n",
       "    <tr>\n",
       "      <th>1</th>\n",
       "      <td>2.0</td>\n",
       "      <td>0.0</td>\n",
       "      <td>0.0</td>\n",
       "      <td>0.0</td>\n",
       "      <td>0.0</td>\n",
       "      <td>0.0</td>\n",
       "      <td>0.0</td>\n",
       "      <td>0.0</td>\n",
       "      <td>0.0</td>\n",
       "      <td>0.0</td>\n",
       "      <td>...</td>\n",
       "      <td>0.0</td>\n",
       "      <td>0.0</td>\n",
       "      <td>3.0</td>\n",
       "      <td>0.0</td>\n",
       "      <td>0.0</td>\n",
       "      <td>0.0</td>\n",
       "      <td>0.0</td>\n",
       "      <td>0.0</td>\n",
       "      <td>0.0</td>\n",
       "      <td>0.0</td>\n",
       "    </tr>\n",
       "    <tr>\n",
       "      <th>2</th>\n",
       "      <td>2.0</td>\n",
       "      <td>0.0</td>\n",
       "      <td>0.0</td>\n",
       "      <td>0.0</td>\n",
       "      <td>0.0</td>\n",
       "      <td>0.0</td>\n",
       "      <td>0.0</td>\n",
       "      <td>0.0</td>\n",
       "      <td>0.0</td>\n",
       "      <td>0.0</td>\n",
       "      <td>...</td>\n",
       "      <td>0.0</td>\n",
       "      <td>0.0</td>\n",
       "      <td>0.0</td>\n",
       "      <td>0.0</td>\n",
       "      <td>0.0</td>\n",
       "      <td>0.0</td>\n",
       "      <td>0.0</td>\n",
       "      <td>0.0</td>\n",
       "      <td>0.0</td>\n",
       "      <td>0.0</td>\n",
       "    </tr>\n",
       "    <tr>\n",
       "      <th>3</th>\n",
       "      <td>1.0</td>\n",
       "      <td>1.0</td>\n",
       "      <td>1.0</td>\n",
       "      <td>1.0</td>\n",
       "      <td>1.0</td>\n",
       "      <td>1.0</td>\n",
       "      <td>2.0</td>\n",
       "      <td>1.0</td>\n",
       "      <td>1.0</td>\n",
       "      <td>1.0</td>\n",
       "      <td>...</td>\n",
       "      <td>1.0</td>\n",
       "      <td>1.0</td>\n",
       "      <td>1.0</td>\n",
       "      <td>1.0</td>\n",
       "      <td>1.0</td>\n",
       "      <td>1.0</td>\n",
       "      <td>1.0</td>\n",
       "      <td>1.0</td>\n",
       "      <td>1.0</td>\n",
       "      <td>1.0</td>\n",
       "    </tr>\n",
       "    <tr>\n",
       "      <th>4</th>\n",
       "      <td>8.0</td>\n",
       "      <td>1.0</td>\n",
       "      <td>0.0</td>\n",
       "      <td>0.0</td>\n",
       "      <td>0.0</td>\n",
       "      <td>0.0</td>\n",
       "      <td>0.0</td>\n",
       "      <td>0.0</td>\n",
       "      <td>0.0</td>\n",
       "      <td>0.0</td>\n",
       "      <td>...</td>\n",
       "      <td>0.0</td>\n",
       "      <td>0.0</td>\n",
       "      <td>2.0</td>\n",
       "      <td>0.0</td>\n",
       "      <td>0.0</td>\n",
       "      <td>0.0</td>\n",
       "      <td>0.0</td>\n",
       "      <td>0.0</td>\n",
       "      <td>0.0</td>\n",
       "      <td>1.0</td>\n",
       "    </tr>\n",
       "  </tbody>\n",
       "</table>\n",
       "<p>5 rows × 800 columns</p>\n",
       "</div>"
      ],
      "text/plain": [
       "   0    1    2    3    4    5    6    7    8    9    ...  790  791  792  793  \\\n",
       "0  2.0  0.0  0.0  2.0  2.0  0.0  0.0  0.0  0.0  0.0  ...  0.0  0.0  0.0  0.0   \n",
       "1  2.0  0.0  0.0  0.0  0.0  0.0  0.0  0.0  0.0  0.0  ...  0.0  0.0  3.0  0.0   \n",
       "2  2.0  0.0  0.0  0.0  0.0  0.0  0.0  0.0  0.0  0.0  ...  0.0  0.0  0.0  0.0   \n",
       "3  1.0  1.0  1.0  1.0  1.0  1.0  2.0  1.0  1.0  1.0  ...  1.0  1.0  1.0  1.0   \n",
       "4  8.0  1.0  0.0  0.0  0.0  0.0  0.0  0.0  0.0  0.0  ...  0.0  0.0  2.0  0.0   \n",
       "\n",
       "   794  795  796  797  798  799  \n",
       "0  0.0  0.0  0.0  0.0  0.0  0.0  \n",
       "1  0.0  0.0  0.0  0.0  0.0  0.0  \n",
       "2  0.0  0.0  0.0  0.0  0.0  0.0  \n",
       "3  1.0  1.0  1.0  1.0  1.0  1.0  \n",
       "4  0.0  0.0  0.0  0.0  0.0  1.0  \n",
       "\n",
       "[5 rows x 800 columns]"
      ]
     },
     "execution_count": 4,
     "metadata": {},
     "output_type": "execute_result"
    }
   ],
   "source": [
    "tr_Matrix.head()"
   ]
  },
  {
   "cell_type": "code",
   "execution_count": 5,
   "id": "83554cf2",
   "metadata": {},
   "outputs": [
    {
     "data": {
      "text/plain": [
       "(5500, 1)"
      ]
     },
     "execution_count": 5,
     "metadata": {},
     "output_type": "execute_result"
    }
   ],
   "source": [
    "terms.shape"
   ]
  },
  {
   "cell_type": "code",
   "execution_count": 6,
   "id": "8a044092",
   "metadata": {},
   "outputs": [],
   "source": [
    "#TD to DT matrix\n",
    "DT_train = tr_Matrix.T\n",
    "DT_test = te_Matrix.T"
   ]
  },
  {
   "cell_type": "code",
   "execution_count": 7,
   "id": "5c491617",
   "metadata": {},
   "outputs": [
    {
     "data": {
      "text/plain": [
       "0     102.0\n",
       "1      11.0\n",
       "2      22.0\n",
       "3     959.0\n",
       "4     222.0\n",
       "5      84.0\n",
       "6     108.0\n",
       "7     262.0\n",
       "8      55.0\n",
       "9     318.0\n",
       "10     69.0\n",
       "11     41.0\n",
       "12    148.0\n",
       "13    128.0\n",
       "14    128.0\n",
       "15    146.0\n",
       "16    201.0\n",
       "17     39.0\n",
       "18    159.0\n",
       "19      6.0\n",
       "dtype: float64"
      ]
     },
     "execution_count": 7,
     "metadata": {},
     "output_type": "execute_result"
    }
   ],
   "source": [
    "term_fr = tr_Matrix.sum(axis=1)\n",
    "term_fr[0:20]"
   ]
  },
  {
   "cell_type": "code",
   "execution_count": 8,
   "id": "8a995b31",
   "metadata": {},
   "outputs": [
    {
     "data": {
      "image/png": "[encoded data removed]",
      "text/plain": [
       "<Figure size 432x288 with 1 Axes>"
      ]
     },
     "metadata": {
      "needs_background": "light"
     },
     "output_type": "display_data"
    }
   ],
   "source": [
    "#Plotting the TermFrequency\n",
    "plt.plot(sorted(term_fr,reverse=True));\n",
    "plt.title('Frequency vs Terms')\n",
    "plt.xlabel('Terms')\n",
    "plt.ylabel('Frequency')\n",
    "plt.show()"
   ]
  },
  {
   "cell_type": "markdown",
   "id": "e79b75c3",
   "metadata": {},
   "source": [
    "b. [10 pts] Create your own K-Nearest-Neighbor classifier function. Your classifier should allow as input the training data matrix, the training labels, the instance to be classified, the value of K (number of neighbors), and should return the predicted class for the instance and the indices of the top K neighbors. Your classifier should work with Euclidean distance as well as Cosine distance (which is 1 minus the Cosine similarity). You may create two separate classifiers, or add the distance metric as a parameter in the classifier function (an example implementation of a KNN classifier was provided in class examples). Show that your classifier works by running it on the first two instances in the test data using both Cosine and Euclidean distance in each case."
   ]
  },
  {
   "cell_type": "code",
   "execution_count": 9,
   "id": "07859e8e",
   "metadata": {},
   "outputs": [],
   "source": [
    "#Finding the KNN of an instance x among the instances in D\n",
    "def knn_search(x, D, K, measure):\n",
    "    if measure == 0:\n",
    "#The euclidean distances are taken from the other points \n",
    "        dist_s = np.sqrt(((D - x)**2).sum(axis = 1))\n",
    "    elif measure == 1:\n",
    "#Firstly, the vector norm is found for each instance in D, as well as the norm for vector x\n",
    "        D_norm = np.array([np.linalg.norm(D[i]) for i in range(len(D))])\n",
    "        x_norm = np.linalg.norm(x)\n",
    "        sims = np.dot(D,x)/(D_norm * x_norm)\n",
    "#Cosine Similarity is the inverse of distance measure\n",
    "        dist_s = 1 - sims\n",
    "    idx = np.argsort(dist_s) \n",
    "#KNN indexes are being returned \n",
    "    return idx[:K], dist_s    \n",
    "def knn_classify(x, D, K, labels, measure):\n",
    "    from collections import Counter\n",
    "    neigh_idx, distances = knn_search(x, D, K, measure)\n",
    "    neigh_labels = labels[neigh_idx]\n",
    "    count = Counter(neigh_labels)\n",
    "    predic_label = count.most_common(1)[0][0]\n",
    "    return neigh_idx, predic_label"
   ]
  },
  {
   "cell_type": "code",
   "execution_count": 10,
   "id": "acbdc992",
   "metadata": {},
   "outputs": [],
   "source": [
    "DT_train = np.array(DT_train)\n",
    "DT_test = np.array(DT_test)\n",
    "terms_tr = np.array(tr_lables).flatten()\n",
    "terms_te = np.array(te_lables).flatten()"
   ]
  },
  {
   "cell_type": "code",
   "execution_count": 11,
   "id": "44de270d",
   "metadata": {},
   "outputs": [],
   "source": [
    "#Importing the scikit-learn\n",
    "from sklearn import preprocessing\n",
    "#MinMax Processing\n",
    "minmax_scaler = preprocessing.MinMaxScaler()\n",
    "tr_norm = minmax_scaler.fit_transform(DT_train)\n",
    "te_norm = minmax_scaler.fit_transform(DT_test)"
   ]
  },
  {
   "cell_type": "code",
   "execution_count": 12,
   "id": "7edb5747",
   "metadata": {},
   "outputs": [
    {
     "name": "stdout",
     "output_type": "stream",
     "text": [
      "[685 757 798 711  38 342 326 224 554 743] 0\n"
     ]
    }
   ],
   "source": [
    "top_K_neighors, class_predic = knn_classify(te_norm[0], tr_norm, 10, terms_tr, 0)\n",
    "print(top_K_neighors, class_predic)"
   ]
  },
  {
   "cell_type": "code",
   "execution_count": 13,
   "id": "6958fc1f",
   "metadata": {},
   "outputs": [
    {
     "name": "stdout",
     "output_type": "stream",
     "text": [
      "[685 628 152 570  24 675   1 763 109 194] 1\n"
     ]
    }
   ],
   "source": [
    "top_K_neighors, class_predic = knn_classify(te_norm[0], tr_norm,10, terms_tr, 1)\n",
    "print(top_K_neighors, class_predic)"
   ]
  },
  {
   "cell_type": "code",
   "execution_count": 14,
   "id": "8f5fb507",
   "metadata": {},
   "outputs": [
    {
     "name": "stdout",
     "output_type": "stream",
     "text": [
      "[757 798 711  38 342 554 326 224 743  20] 0\n"
     ]
    }
   ],
   "source": [
    "top_K_neighors, class_predic = knn_classify(te_norm[1], tr_norm,10, terms_tr, 0)\n",
    "print(top_K_neighors, class_predic)"
   ]
  },
  {
   "cell_type": "code",
   "execution_count": 15,
   "id": "d72c776d",
   "metadata": {},
   "outputs": [
    {
     "name": "stdout",
     "output_type": "stream",
     "text": [
      "[587 269 199 779 550 458 461 784 498 686] 0\n"
     ]
    }
   ],
   "source": [
    "top_K_neighors, class_predic = knn_classify(te_norm[1], tr_norm,10, terms_tr, 1)\n",
    "print(top_K_neighors, class_predic)"
   ]
  },
  {
   "cell_type": "markdown",
   "id": "d24e1880",
   "metadata": {},
   "source": [
    "c. [10 pts] Create an evaluation function to measure the accuracy of your classifier. This function will call the classifier function in part a on all the test instances and in each case compares the actual test class label to the predicted class label. It should take as input the training data, the training labels, the test instances, the labels for test instances, and the value of K. Your evaluation function should return the Classification Accuracy (ratio of correct predictions to the number of test instances) [See class notes: Classification & Prediction - Review of Basic Concepts].\n"
   ]
  },
  {
   "cell_type": "code",
   "execution_count": 16,
   "id": "8f95983f",
   "metadata": {},
   "outputs": [],
   "source": [
    "def knn_evaluate(test_instances, test_labs, training_data, train_labs, K, measure):\n",
    "# test_instances: An array of test instances \n",
    "# test_labs: An array of class labels for the respective test instances \n",
    "# training_data: Training Instances\n",
    "# train_labs: An array of class labels for the respective training instances \n",
    "    T=0 \n",
    "    F=0 \n",
    "    for i in range(len(test_instances)):\n",
    "        actual=test_labs[i]\n",
    "        top_K_neighbors, predicted = knn_classify(test_instances[i], training_data, K, train_labs, measure)\n",
    "        if actual == predicted:\n",
    "            T += 1       \n",
    "        else:\n",
    "            F += 1     \n",
    "    acc = float(T)/float(T+F) \n",
    "    return acc"
   ]
  },
  {
   "cell_type": "code",
   "execution_count": 17,
   "id": "525c29c0",
   "metadata": {},
   "outputs": [
    {
     "name": "stdout",
     "output_type": "stream",
     "text": [
      "KNN classification accuracy:  0.525\n"
     ]
    }
   ],
   "source": [
    "acc = knn_evaluate(te_norm, terms_te, tr_norm, terms_tr, 10, 0)\n",
    "print(\"KNN classification accuracy: \", acc)"
   ]
  },
  {
   "cell_type": "markdown",
   "id": "fe4abf25",
   "metadata": {},
   "source": [
    "d. [10 pts] Run your evaluation function on a range of values for K from 5 to 100 (in increments of 5) in order to compare accuracy values for different numbers of neighbors. Do this both using Euclidean Distance as well as Cosine similarity measure. Present the results as graphs with K in the x-axis and the evaluation metric (accuracy) on the y-axis. Use a single plot to compare the two version of the classifier (Euclidean distance version vs. cosine similarity version)."
   ]
  },
  {
   "cell_type": "code",
   "execution_count": 18,
   "id": "2e7b5030",
   "metadata": {},
   "outputs": [],
   "source": [
    "def incrementK(test_instances, test_labs, training_data, train_labs):\n",
    "    acc_Matrix = np.zeros([20,3])\n",
    "    index=0\n",
    "    for K in range(5, 105, 5):\n",
    "        euclidian_Acc= knn_evaluate(test_instances, test_labs, training_data, train_labs, K, 0)\n",
    "        cosine_Acc = knn_evaluate(test_instances, test_labs, training_data, train_labs, K, 1)\n",
    "        acc_Matrix[index]= [K, euclidian_Acc, cosine_Acc]\n",
    "        index +=1\n",
    "    return acc_Matrix"
   ]
  },
  {
   "cell_type": "code",
   "execution_count": 19,
   "id": "491fec58",
   "metadata": {},
   "outputs": [
    {
     "name": "stdout",
     "output_type": "stream",
     "text": [
      " 5   0.61    0.96\n",
      "10   0.53    0.96\n",
      "15   0.51    0.95\n",
      "20   0.49    0.95\n",
      "25   0.49    0.94\n",
      "30   0.49    0.94\n",
      "35   0.49    0.94\n",
      "40   0.49    0.94\n",
      "45   0.49    0.94\n",
      "50   0.49    0.94\n",
      "55   0.49    0.94\n",
      "60   0.49    0.94\n",
      "65   0.49    0.94\n",
      "70   0.49    0.94\n",
      "75   0.49    0.94\n",
      "80   0.49    0.93\n",
      "85   0.49    0.93\n",
      "90   0.49    0.94\n",
      "95   0.49    0.93\n",
      "100   0.49    0.93\n"
     ]
    }
   ],
   "source": [
    "#Accuracy Matrix \n",
    "acc_Matrix = incrementK(te_norm, terms_te, tr_norm, terms_tr )\n",
    "for row in acc_Matrix:\n",
    "    print(\"%2.0f   %.2f    %.2f\" % (row[0], row[1], row[2]))"
   ]
  },
  {
   "cell_type": "code",
   "execution_count": 20,
   "id": "4fb107ea",
   "metadata": {},
   "outputs": [],
   "source": [
    "df = pd.DataFrame(acc_Matrix, columns = ['K', 'euclidian_Acc', 'cosine_Acc'])"
   ]
  },
  {
   "cell_type": "code",
   "execution_count": 21,
   "id": "e53f2745",
   "metadata": {},
   "outputs": [
    {
     "data": {
      "image/png": "[encoded data removed]",
      "text/plain": [
       "<Figure size 576x360 with 1 Axes>"
      ]
     },
     "metadata": {
      "needs_background": "light"
     },
     "output_type": "display_data"
    }
   ],
   "source": [
    "plt.figure(figsize=(8,5))\n",
    "plt.plot(df['K'], df['euclidian_Acc'], label =\"Euclidean\")\n",
    "plt.plot(df['K'], df['cosine_Acc'], label =\"Cosine\")\n",
    "plt.xlabel('K-Value')\n",
    "plt.ylabel('Accuracy')\n",
    "plt.title(\"Eculidean distance version vs. cosine similarity version\")\n",
    "plt.grid(linestyle = '--')\n",
    "plt.xticks(df['K'])\n",
    "plt.legend(loc='center left', bbox_to_anchor=(1,0.5))\n",
    "plt.show()"
   ]
  },
  {
   "cell_type": "markdown",
   "id": "09939e8e",
   "metadata": {},
   "source": [
    "e. [10 pts] Next, modify the training and test data sets so that term weights are converted to TFxIDF weights (instead of raw term frequencies). [See class notes on Text Categorization]. Then, rerun your evaluation (only for the Cosine similarity version of the classifier) on the range of K values (as above) and create a chart comparing the results with and without using TFxIDF weights.\n",
    " "
   ]
  },
  {
   "cell_type": "code",
   "execution_count": 22,
   "id": "fc3ffec7",
   "metadata": {},
   "outputs": [
    {
     "data": {
      "text/plain": [
       "5500"
      ]
     },
     "execution_count": 22,
     "metadata": {},
     "output_type": "execute_result"
    }
   ],
   "source": [
    "n_Terms = DT_train.shape[1]\n",
    "n_Terms"
   ]
  },
  {
   "cell_type": "code",
   "execution_count": 23,
   "id": "663fb812",
   "metadata": {},
   "outputs": [
    {
     "data": {
      "text/plain": [
       "(200, 5500)"
      ]
     },
     "execution_count": 23,
     "metadata": {},
     "output_type": "execute_result"
    }
   ],
   "source": [
    "DT_test.shape"
   ]
  },
  {
   "cell_type": "code",
   "execution_count": 24,
   "id": "2c61545c",
   "metadata": {},
   "outputs": [
    {
     "data": {
      "text/plain": [
       "800"
      ]
     },
     "execution_count": 24,
     "metadata": {},
     "output_type": "execute_result"
    }
   ],
   "source": [
    "n_Docs = DT_train.shape[0]\n",
    "n_Docs"
   ]
  },
  {
   "cell_type": "code",
   "execution_count": 25,
   "id": "3c2e78e1",
   "metadata": {},
   "outputs": [
    {
     "data": {
      "text/html": [
       "<div>\n",
       "<style scoped>\n",
       "    .dataframe tbody tr th:only-of-type {\n",
       "        vertical-align: middle;\n",
       "    }\n",
       "\n",
       "    .dataframe tbody tr th {\n",
       "        vertical-align: top;\n",
       "    }\n",
       "\n",
       "    .dataframe thead th {\n",
       "        text-align: right;\n",
       "    }\n",
       "</style>\n",
       "<table border=\"1\" class=\"dataframe\">\n",
       "  <thead>\n",
       "    <tr style=\"text-align: right;\">\n",
       "      <th></th>\n",
       "      <th>0</th>\n",
       "    </tr>\n",
       "  </thead>\n",
       "  <tbody>\n",
       "    <tr>\n",
       "      <th>0</th>\n",
       "      <td>50</td>\n",
       "    </tr>\n",
       "    <tr>\n",
       "      <th>1</th>\n",
       "      <td>7</td>\n",
       "    </tr>\n",
       "    <tr>\n",
       "      <th>2</th>\n",
       "      <td>10</td>\n",
       "    </tr>\n",
       "    <tr>\n",
       "      <th>3</th>\n",
       "      <td>800</td>\n",
       "    </tr>\n",
       "    <tr>\n",
       "      <th>4</th>\n",
       "      <td>108</td>\n",
       "    </tr>\n",
       "    <tr>\n",
       "      <th>...</th>\n",
       "      <td>...</td>\n",
       "    </tr>\n",
       "    <tr>\n",
       "      <th>5495</th>\n",
       "      <td>3</td>\n",
       "    </tr>\n",
       "    <tr>\n",
       "      <th>5496</th>\n",
       "      <td>3</td>\n",
       "    </tr>\n",
       "    <tr>\n",
       "      <th>5497</th>\n",
       "      <td>2</td>\n",
       "    </tr>\n",
       "    <tr>\n",
       "      <th>5498</th>\n",
       "      <td>2</td>\n",
       "    </tr>\n",
       "    <tr>\n",
       "      <th>5499</th>\n",
       "      <td>2</td>\n",
       "    </tr>\n",
       "  </tbody>\n",
       "</table>\n",
       "<p>5500 rows × 1 columns</p>\n",
       "</div>"
      ],
      "text/plain": [
       "        0\n",
       "0      50\n",
       "1       7\n",
       "2      10\n",
       "3     800\n",
       "4     108\n",
       "...   ...\n",
       "5495    3\n",
       "5496    3\n",
       "5497    2\n",
       "5498    2\n",
       "5499    2\n",
       "\n",
       "[5500 rows x 1 columns]"
      ]
     },
     "execution_count": 25,
     "metadata": {},
     "output_type": "execute_result"
    }
   ],
   "source": [
    "#Finding the doc counts for each of the term \n",
    "doc_terms = pd.DataFrame([(DT_train.T!=0).sum(1)]).T\n",
    "doc_terms"
   ]
  },
  {
   "cell_type": "code",
   "execution_count": 26,
   "id": "ee5142cb",
   "metadata": {},
   "outputs": [
    {
     "name": "stdout",
     "output_type": "stream",
     "text": [
      "[[800. 800. 800. ... 800. 800. 800.]\n",
      " [800. 800. 800. ... 800. 800. 800.]\n",
      " [800. 800. 800. ... 800. 800. 800.]\n",
      " ...\n",
      " [800. 800. 800. ... 800. 800. 800.]\n",
      " [800. 800. 800. ... 800. 800. 800.]\n",
      " [800. 800. 800. ... 800. 800. 800.]]\n"
     ]
    }
   ],
   "source": [
    "#Creating Matrix with all entries\n",
    "N_Matrix = np.ones(np.shape(DT_train.T), dtype=float)*n_Docs\n",
    "np.set_printoptions(precision=2,suppress=True,linewidth=120)\n",
    "print(N_Matrix)"
   ]
  },
  {
   "cell_type": "code",
   "execution_count": 27,
   "id": "350b79b5",
   "metadata": {},
   "outputs": [
    {
     "name": "stdout",
     "output_type": "stream",
     "text": [
      "[[4.   4.   4.   ... 4.   4.   4.  ]\n",
      " [6.84 6.84 6.84 ... 6.84 6.84 6.84]\n",
      " [6.32 6.32 6.32 ... 6.32 6.32 6.32]\n",
      " [0.   0.   0.   ... 0.   0.   0.  ]\n",
      " [2.89 2.89 2.89 ... 2.89 2.89 2.89]]\n"
     ]
    }
   ],
   "source": [
    "#Each entry is converted into the IDF values\n",
    "#Dividing the N_Matrix by the numpy array (same for test data)\n",
    "IDF = np.log2(np.divide(N_Matrix, np.array(doc_terms)))\n",
    "print(IDF[0:5])"
   ]
  },
  {
   "cell_type": "code",
   "execution_count": 28,
   "id": "bcb87419",
   "metadata": {},
   "outputs": [
    {
     "data": {
      "text/plain": [
       "array([[ 8.  ,  0.  ,  0.  , ...,  0.  ,  0.  ,  0.  ],\n",
       "       [13.67,  0.  ,  0.  , ...,  0.  ,  0.  ,  0.  ],\n",
       "       [12.64,  0.  ,  0.  , ...,  0.  ,  0.  ,  0.  ],\n",
       "       ...,\n",
       "       [ 0.  ,  0.  ,  0.  , ...,  0.  ,  0.  ,  0.  ],\n",
       "       [ 0.  ,  0.  ,  0.  , ...,  0.  ,  0.  ,  0.  ],\n",
       "       [ 0.  ,  0.  ,  0.  , ...,  0.  ,  0.  ,  0.  ]])"
      ]
     },
     "execution_count": 28,
     "metadata": {},
     "output_type": "execute_result"
    }
   ],
   "source": [
    "#TF*IDF for test data and the train data is computed\n",
    "TD_tf_idf = DT_train.T * IDF\n",
    "pd.set_option(\"display.precision\", 2)\n",
    "TD_tf_idf"
   ]
  },
  {
   "cell_type": "code",
   "execution_count": 29,
   "id": "351ca2fd",
   "metadata": {},
   "outputs": [
    {
     "data": {
      "text/plain": [
       "array([[ 8.  , 13.67, 12.64, ...,  0.  ,  0.  ,  0.  ],\n",
       "       [ 0.  ,  0.  ,  0.  , ...,  0.  ,  0.  ,  0.  ],\n",
       "       [ 0.  ,  0.  ,  0.  , ...,  0.  ,  0.  ,  0.  ],\n",
       "       ...,\n",
       "       [ 0.  ,  0.  ,  0.  , ...,  0.  ,  0.  ,  0.  ],\n",
       "       [ 0.  ,  0.  ,  0.  , ...,  0.  ,  0.  ,  0.  ],\n",
       "       [ 0.  ,  0.  ,  0.  , ...,  0.  ,  0.  ,  0.  ]])"
      ]
     },
     "execution_count": 29,
     "metadata": {},
     "output_type": "execute_result"
    }
   ],
   "source": [
    "#numpy arrays and document by term are required by the KNN fns\n",
    "DT_tf_idf = TD_tf_idf.T\n",
    "dtm_train_idf = np.array(DT_tf_idf)\n",
    "dtm_train_idf"
   ]
  },
  {
   "cell_type": "code",
   "execution_count": 30,
   "id": "abb2ec6d",
   "metadata": {},
   "outputs": [],
   "source": [
    "def Knn_Cosine_IncrementK(test_instances, test_labs, training_data, train_labs):\n",
    "    acc_Matrix = np.zeros([20,2])\n",
    "    index=0\n",
    "    for K in range(5, 105, 5):\n",
    "        for i in range(len(test_instances)):\n",
    "            x_IDF_Test= test_instances[i] * IDF.T[i]\n",
    "            cosine_Acc = knn_evaluate(x_IDF_Test, test_labs, training_data, train_labs, K, 1)\n",
    "            acc_Matrix[index]= [K, cosine_Acc]\n",
    "            index +=1\n",
    "    return acc_Matrix"
   ]
  },
  {
   "cell_type": "code",
   "execution_count": 31,
   "id": "7e90c3b2",
   "metadata": {},
   "outputs": [
    {
     "data": {
      "text/plain": [
       "(200, 5500)"
      ]
     },
     "execution_count": 31,
     "metadata": {},
     "output_type": "execute_result"
    }
   ],
   "source": [
    "dt_test = np.array(DT_test)\n",
    "dt_test.shape"
   ]
  },
  {
   "cell_type": "code",
   "execution_count": 32,
   "id": "1113d75f",
   "metadata": {},
   "outputs": [],
   "source": [
    "def knn_evaluate_idf(te_data, te_labels, tr_data, tr_labels, K, measure):\n",
    "    correct=0 \n",
    "    total = len(te_data)\n",
    "    for i in range(total):\n",
    "        x_tfidf = te_data[i] * IDF.T[i]\n",
    "        top_K_neighbors, predicted = knn_classify(x_tfidf, tr_data, K, tr_labels, measure)\n",
    "        if(te_labels[i] == predicted):\n",
    "            correct += 1       \n",
    "    acc = correct/total\n",
    "    return acc"
   ]
  },
  {
   "cell_type": "code",
   "execution_count": 33,
   "id": "a2c1325b",
   "metadata": {},
   "outputs": [
    {
     "name": "stdout",
     "output_type": "stream",
     "text": [
      "0.99\n",
      "CPU times: total: 54.8 s\n",
      "Wall time: 5.53 s\n"
     ]
    }
   ],
   "source": [
    "%%time\n",
    "cosine=(knn_evaluate_idf(dt_test,  terms_te, dtm_train_idf, terms_tr, 10, 1))\n",
    "print(cosine)"
   ]
  },
  {
   "cell_type": "code",
   "execution_count": 34,
   "id": "35d0ba5a",
   "metadata": {},
   "outputs": [],
   "source": [
    "cosine_idf =[]\n",
    "for K in range(5, 101, 5):\n",
    "    cosine_idf.append(knn_evaluate_idf(dt_test,  terms_te, dtm_train_idf, terms_tr, K, 1))"
   ]
  },
  {
   "cell_type": "code",
   "execution_count": 35,
   "id": "587c5cb8",
   "metadata": {},
   "outputs": [
    {
     "data": {
      "image/png": "[encoded data removed]",
      "text/plain": [
       "<Figure size 432x288 with 1 Axes>"
      ]
     },
     "metadata": {
      "needs_background": "light"
     },
     "output_type": "display_data"
    }
   ],
   "source": [
    "x = acc_Matrix[:,0]\n",
    "cosine= acc_Matrix[:,2]\n",
    "cosine_reg= acc_Matrix[2]\n",
    "plt.plot(x, cosine, label =\"Cosine Distance\", marker =\"s\")\n",
    "plt.plot(x, cosine_idf, label =\"Cosine IDF Distance\", marker =\"s\")\n",
    "plt.xlabel(\"K Value\")\n",
    "plt.ylabel(\"Accuracy\")\n",
    "plt.title(\"Cosine Similarity\")\n",
    "plt.legend(loc=\"best\")\n",
    "plt.show()"
   ]
  },
  {
   "cell_type": "markdown",
   "id": "812d9982",
   "metadata": {},
   "source": [
    "When we see both the Cosine Distributions, we can clarify that the IDF weighted has more accuracy when compared to KNN without IDF with a difference of 4-5% on average."
   ]
  },
  {
   "cell_type": "markdown",
   "id": "e89957c0",
   "metadata": {},
   "source": [
    "f. [10 pts] Create a new classifier based on the Rocchio Method (also know as the \"nearest centroid\" method) adapted for text categorization [See class notes on Text Categorization]. You should separate the training function from the classification function. The training part for the classifier can be implemented as a function that takes as input the training data matrix and the training labels, returning the prototype vectors for each class. The classification part can be implemented as another function that would take as input the prototypes returned from the training function and the instance to be classified. This function should measure Cosine similarity of the test instance to each prototype vector. Your output should indicate the predicted class for the test instance and the similarity values of the instance to each of the category prototypes.  Finally, use your evaluation function to compare your results to the best KNN results you obtained in part d. [Note: your functions should work regardless of the number of categories (class labels) and should not be limited to two-class categorization scenario. The number of classes should not be hardcoded in your implementation.]"
   ]
  },
  {
   "cell_type": "code",
   "execution_count": 36,
   "id": "4659bb37",
   "metadata": {},
   "outputs": [],
   "source": [
    "# Creating the training function separate from the classification function \n",
    "def rocchio_training(train, labels):\n",
    "    num_Class = np.unique(labels)\n",
    "    prototypeVector = {}\n",
    "    for (i, cls) in enumerate(num_Class):\n",
    "        indxs = np.array(labels.index[labels.iloc[:, 0] == cls])\n",
    "        rows = train[indxs]\n",
    "        prototype = np.sum(rows, axis=0)\n",
    "        prototypeVector .update({i : prototype})   \n",
    "    return prototypeVector"
   ]
  },
  {
   "cell_type": "code",
   "execution_count": 37,
   "id": "f3cab2a0",
   "metadata": {},
   "outputs": [],
   "source": [
    "#Importing the numpy packages\n",
    "from numpy import dot\n",
    "from numpy.linalg import norm"
   ]
  },
  {
   "cell_type": "code",
   "execution_count": 38,
   "id": "a60db71e",
   "metadata": {},
   "outputs": [],
   "source": [
    "def rocchio_classification(prototypes, instance):\n",
    "    cosineMax = -1\n",
    "    proto = -1 \n",
    "#Cosine similarity between the prototype and instance have been found, after that the cosineMax is updated if it's greater than the current max.\n",
    "    for k, v in prototypes.items():\n",
    "        cosine = dot(instance, v)/(norm(instance)*norm(v))\n",
    "        if cosine > cosineMax:\n",
    "            cosineMac = cosine\n",
    "            proto = k\n",
    "    return proto"
   ]
  },
  {
   "cell_type": "code",
   "execution_count": 39,
   "id": "90adfb37",
   "metadata": {},
   "outputs": [],
   "source": [
    "#Classification accuracy is computed using the test instances \n",
    "def rocchio_compute(data, labels, prototypes):\n",
    "    total = len(data)\n",
    "    corr = 0\n",
    "    for i in range(total):\n",
    "        label = rocchio_classification(prototypes, data[i])\n",
    "        if label == labels[i]:\n",
    "            corr += 1\n",
    "    print(\"Correct: {}, Total: {}\".format(corr, total))\n",
    "    return corr/total"
   ]
  },
  {
   "cell_type": "code",
   "execution_count": 40,
   "id": "bc6fa501",
   "metadata": {},
   "outputs": [],
   "source": [
    "prototypes = rocchio_training(DT_train, tr_lables)"
   ]
  },
  {
   "cell_type": "code",
   "execution_count": 41,
   "id": "e19ee3eb",
   "metadata": {},
   "outputs": [
    {
     "name": "stdout",
     "output_type": "stream",
     "text": [
      "Correct: 101, Total: 200\n"
     ]
    },
    {
     "data": {
      "text/plain": [
       "0.505"
      ]
     },
     "execution_count": 41,
     "metadata": {},
     "output_type": "execute_result"
    }
   ],
   "source": [
    "rocchio_compute(DT_test, terms_te, prototypes)"
   ]
  },
  {
   "cell_type": "code",
   "execution_count": 42,
   "id": "31151875",
   "metadata": {},
   "outputs": [],
   "source": [
    "prototypes_idf = rocchio_training(dtm_train_idf, tr_lables)"
   ]
  },
  {
   "cell_type": "code",
   "execution_count": 43,
   "id": "a95c62ef",
   "metadata": {},
   "outputs": [],
   "source": [
    "def rocchio_evaluate_idf(data, labels, prototypes):\n",
    "    total = len(data)\n",
    "    correct = 0\n",
    "    for i in range(len(data)):\n",
    "        x_tfidf = data[i] * IDF.T[i]\n",
    "        label = rocchio_classification(prototypes, x_tfidf)\n",
    "        if label == labels[i]:\n",
    "            correct +=1\n",
    "    print(\"Correct: {}, Total: {}\".format(correct, total))\n",
    "    return correct/total"
   ]
  },
  {
   "cell_type": "code",
   "execution_count": 44,
   "id": "d859edbe",
   "metadata": {},
   "outputs": [
    {
     "name": "stdout",
     "output_type": "stream",
     "text": [
      "Correct: 101, Total: 200\n"
     ]
    },
    {
     "data": {
      "text/plain": [
       "0.505"
      ]
     },
     "execution_count": 44,
     "metadata": {},
     "output_type": "execute_result"
    }
   ],
   "source": [
    "rocchio_evaluate_idf(DT_test, terms_te, prototypes_idf)"
   ]
  },
  {
   "cell_type": "markdown",
   "id": "fa8c3d84",
   "metadata": {},
   "source": [
    "g. [5 pts] Using scikit-learn's Nearest Centroid classifier to perform classification of the test instances, as in the previous part. Compare the classification accuracy of your Rocchio implementation to the classification results using scikit-learn."
   ]
  },
  {
   "cell_type": "code",
   "execution_count": 45,
   "id": "5a22881a",
   "metadata": {},
   "outputs": [
    {
     "name": "stderr",
     "output_type": "stream",
     "text": [
      "C:\\Users\\admin\\anaconda3\\lib\\site-packages\\sklearn\\utils\\validation.py:993: DataConversionWarning: A column-vector y was passed when a 1d array was expected. Please change the shape of y to (n_samples, ), for example using ravel().\n",
      "  y = column_or_1d(y, warn=True)\n"
     ]
    },
    {
     "data": {
      "text/plain": [
       "NearestCentroid()"
      ]
     },
     "execution_count": 45,
     "metadata": {},
     "output_type": "execute_result"
    }
   ],
   "source": [
    "#Importing sci-kit \n",
    "from sklearn.neighbors import NearestCentroid\n",
    "clf = NearestCentroid()\n",
    "clf.fit(DT_train, tr_lables)\n",
    "NearestCentroid()"
   ]
  },
  {
   "cell_type": "code",
   "execution_count": 46,
   "id": "5b252b68",
   "metadata": {},
   "outputs": [],
   "source": [
    "prediction = clf.predict(DT_test)"
   ]
  },
  {
   "cell_type": "code",
   "execution_count": 47,
   "id": "241fdc41",
   "metadata": {},
   "outputs": [
    {
     "name": "stdout",
     "output_type": "stream",
     "text": [
      "0.94\n"
     ]
    }
   ],
   "source": [
    "acc = clf.score(DT_test, te_lables)\n",
    "print(acc)"
   ]
  },
  {
   "cell_type": "markdown",
   "id": "7af34ade",
   "metadata": {},
   "source": [
    "When the K was set to 20, I was able to get the best KNN score of 100% and also with using the KNN Cosine Distance IDF. 99% was the average findings for KNN Cosine Distance IDF. However, the Rocchio was not working properly whereas it was faster in comparison to KNN. "
   ]
  },
  {
   "cell_type": "markdown",
   "id": "b3c2963e",
   "metadata": {},
   "source": [
    "# 2. Predictive Modeling with Census data [Dataset: adult-modified.csv]\n",
    "\n",
    "a. [5 pts] Load the data into a Pandas dataframe. Create dummy variables for the categorical attributes so that the data set is fully numeric. Then separate the attribute (\"income_>50K\") from the remaining attributes; this will be used as the target attribute for classification.  [Note: you need to drop \"income_<=50K\" which is also created as a dummy variable in earlier step]. Finally, split the transformed data into training and test sets (using 80%-20% randomized split). Note: use the train_test_split function from the sklearn.model_selection module with random_state = 111 to perform the split."
   ]
  },
  {
   "cell_type": "code",
   "execution_count": 48,
   "id": "05e6b552",
   "metadata": {},
   "outputs": [
    {
     "data": {
      "text/plain": [
       "(9412, 8)"
      ]
     },
     "execution_count": 48,
     "metadata": {},
     "output_type": "execute_result"
    }
   ],
   "source": [
    "#Loading the adult_modified dataset and running it\n",
    "adult = pd.read_csv(\"C:/Users/admin/Downloads/adult-modified_.csv\")\n",
    "adult.shape"
   ]
  },
  {
   "cell_type": "code",
   "execution_count": 49,
   "id": "ef82340b",
   "metadata": {},
   "outputs": [
    {
     "data": {
      "text/html": [
       "<div>\n",
       "<style scoped>\n",
       "    .dataframe tbody tr th:only-of-type {\n",
       "        vertical-align: middle;\n",
       "    }\n",
       "\n",
       "    .dataframe tbody tr th {\n",
       "        vertical-align: top;\n",
       "    }\n",
       "\n",
       "    .dataframe thead th {\n",
       "        text-align: right;\n",
       "    }\n",
       "</style>\n",
       "<table border=\"1\" class=\"dataframe\">\n",
       "  <thead>\n",
       "    <tr style=\"text-align: right;\">\n",
       "      <th></th>\n",
       "      <th>age</th>\n",
       "      <th>workclass</th>\n",
       "      <th>education</th>\n",
       "      <th>marital-status</th>\n",
       "      <th>race</th>\n",
       "      <th>sex</th>\n",
       "      <th>hours-per-week</th>\n",
       "      <th>income</th>\n",
       "    </tr>\n",
       "  </thead>\n",
       "  <tbody>\n",
       "    <tr>\n",
       "      <th>0</th>\n",
       "      <td>39</td>\n",
       "      <td>Public</td>\n",
       "      <td>13</td>\n",
       "      <td>Single</td>\n",
       "      <td>White</td>\n",
       "      <td>Male</td>\n",
       "      <td>40</td>\n",
       "      <td>&lt;=50K</td>\n",
       "    </tr>\n",
       "    <tr>\n",
       "      <th>1</th>\n",
       "      <td>50</td>\n",
       "      <td>Self-emp</td>\n",
       "      <td>13</td>\n",
       "      <td>Married</td>\n",
       "      <td>White</td>\n",
       "      <td>Male</td>\n",
       "      <td>13</td>\n",
       "      <td>&lt;=50K</td>\n",
       "    </tr>\n",
       "    <tr>\n",
       "      <th>2</th>\n",
       "      <td>38</td>\n",
       "      <td>Private</td>\n",
       "      <td>9</td>\n",
       "      <td>Single</td>\n",
       "      <td>White</td>\n",
       "      <td>Male</td>\n",
       "      <td>40</td>\n",
       "      <td>&lt;=50K</td>\n",
       "    </tr>\n",
       "    <tr>\n",
       "      <th>3</th>\n",
       "      <td>53</td>\n",
       "      <td>Private</td>\n",
       "      <td>7</td>\n",
       "      <td>Married</td>\n",
       "      <td>Black</td>\n",
       "      <td>Male</td>\n",
       "      <td>40</td>\n",
       "      <td>&lt;=50K</td>\n",
       "    </tr>\n",
       "    <tr>\n",
       "      <th>4</th>\n",
       "      <td>28</td>\n",
       "      <td>Private</td>\n",
       "      <td>13</td>\n",
       "      <td>Married</td>\n",
       "      <td>Black</td>\n",
       "      <td>Female</td>\n",
       "      <td>40</td>\n",
       "      <td>&lt;=50K</td>\n",
       "    </tr>\n",
       "  </tbody>\n",
       "</table>\n",
       "</div>"
      ],
      "text/plain": [
       "   age workclass  education marital-status   race     sex  hours-per-week  \\\n",
       "0   39    Public         13         Single  White    Male              40   \n",
       "1   50  Self-emp         13        Married  White    Male              13   \n",
       "2   38   Private          9         Single  White    Male              40   \n",
       "3   53   Private          7        Married  Black    Male              40   \n",
       "4   28   Private         13        Married  Black  Female              40   \n",
       "\n",
       "  income  \n",
       "0  <=50K  \n",
       "1  <=50K  \n",
       "2  <=50K  \n",
       "3  <=50K  \n",
       "4  <=50K  "
      ]
     },
     "execution_count": 49,
     "metadata": {},
     "output_type": "execute_result"
    }
   ],
   "source": [
    "adult.head()"
   ]
  },
  {
   "cell_type": "code",
   "execution_count": 50,
   "id": "fb2c8098",
   "metadata": {},
   "outputs": [
    {
     "data": {
      "text/html": [
       "<div>\n",
       "<style scoped>\n",
       "    .dataframe tbody tr th:only-of-type {\n",
       "        vertical-align: middle;\n",
       "    }\n",
       "\n",
       "    .dataframe tbody tr th {\n",
       "        vertical-align: top;\n",
       "    }\n",
       "\n",
       "    .dataframe thead th {\n",
       "        text-align: right;\n",
       "    }\n",
       "</style>\n",
       "<table border=\"1\" class=\"dataframe\">\n",
       "  <thead>\n",
       "    <tr style=\"text-align: right;\">\n",
       "      <th></th>\n",
       "      <th>age</th>\n",
       "      <th>education</th>\n",
       "      <th>hours-per-week</th>\n",
       "      <th>workclass_Private</th>\n",
       "      <th>workclass_Public</th>\n",
       "      <th>workclass_Self-emp</th>\n",
       "      <th>marital-status_Married</th>\n",
       "      <th>marital-status_Single</th>\n",
       "      <th>race_Amer-Indian</th>\n",
       "      <th>race_Asian</th>\n",
       "      <th>race_Black</th>\n",
       "      <th>race_Hispanic</th>\n",
       "      <th>race_White</th>\n",
       "      <th>sex_Female</th>\n",
       "      <th>sex_Male</th>\n",
       "      <th>income_&lt;=50K</th>\n",
       "      <th>income_&gt;50K</th>\n",
       "    </tr>\n",
       "  </thead>\n",
       "  <tbody>\n",
       "    <tr>\n",
       "      <th>0</th>\n",
       "      <td>39</td>\n",
       "      <td>13</td>\n",
       "      <td>40</td>\n",
       "      <td>0</td>\n",
       "      <td>1</td>\n",
       "      <td>0</td>\n",
       "      <td>0</td>\n",
       "      <td>1</td>\n",
       "      <td>0</td>\n",
       "      <td>0</td>\n",
       "      <td>0</td>\n",
       "      <td>0</td>\n",
       "      <td>1</td>\n",
       "      <td>0</td>\n",
       "      <td>1</td>\n",
       "      <td>1</td>\n",
       "      <td>0</td>\n",
       "    </tr>\n",
       "    <tr>\n",
       "      <th>1</th>\n",
       "      <td>50</td>\n",
       "      <td>13</td>\n",
       "      <td>13</td>\n",
       "      <td>0</td>\n",
       "      <td>0</td>\n",
       "      <td>1</td>\n",
       "      <td>1</td>\n",
       "      <td>0</td>\n",
       "      <td>0</td>\n",
       "      <td>0</td>\n",
       "      <td>0</td>\n",
       "      <td>0</td>\n",
       "      <td>1</td>\n",
       "      <td>0</td>\n",
       "      <td>1</td>\n",
       "      <td>1</td>\n",
       "      <td>0</td>\n",
       "    </tr>\n",
       "    <tr>\n",
       "      <th>2</th>\n",
       "      <td>38</td>\n",
       "      <td>9</td>\n",
       "      <td>40</td>\n",
       "      <td>1</td>\n",
       "      <td>0</td>\n",
       "      <td>0</td>\n",
       "      <td>0</td>\n",
       "      <td>1</td>\n",
       "      <td>0</td>\n",
       "      <td>0</td>\n",
       "      <td>0</td>\n",
       "      <td>0</td>\n",
       "      <td>1</td>\n",
       "      <td>0</td>\n",
       "      <td>1</td>\n",
       "      <td>1</td>\n",
       "      <td>0</td>\n",
       "    </tr>\n",
       "    <tr>\n",
       "      <th>3</th>\n",
       "      <td>53</td>\n",
       "      <td>7</td>\n",
       "      <td>40</td>\n",
       "      <td>1</td>\n",
       "      <td>0</td>\n",
       "      <td>0</td>\n",
       "      <td>1</td>\n",
       "      <td>0</td>\n",
       "      <td>0</td>\n",
       "      <td>0</td>\n",
       "      <td>1</td>\n",
       "      <td>0</td>\n",
       "      <td>0</td>\n",
       "      <td>0</td>\n",
       "      <td>1</td>\n",
       "      <td>1</td>\n",
       "      <td>0</td>\n",
       "    </tr>\n",
       "    <tr>\n",
       "      <th>4</th>\n",
       "      <td>28</td>\n",
       "      <td>13</td>\n",
       "      <td>40</td>\n",
       "      <td>1</td>\n",
       "      <td>0</td>\n",
       "      <td>0</td>\n",
       "      <td>1</td>\n",
       "      <td>0</td>\n",
       "      <td>0</td>\n",
       "      <td>0</td>\n",
       "      <td>1</td>\n",
       "      <td>0</td>\n",
       "      <td>0</td>\n",
       "      <td>1</td>\n",
       "      <td>0</td>\n",
       "      <td>1</td>\n",
       "      <td>0</td>\n",
       "    </tr>\n",
       "  </tbody>\n",
       "</table>\n",
       "</div>"
      ],
      "text/plain": [
       "   age  education  hours-per-week  workclass_Private  workclass_Public  \\\n",
       "0   39         13              40                  0                 1   \n",
       "1   50         13              13                  0                 0   \n",
       "2   38          9              40                  1                 0   \n",
       "3   53          7              40                  1                 0   \n",
       "4   28         13              40                  1                 0   \n",
       "\n",
       "   workclass_Self-emp  marital-status_Married  marital-status_Single  \\\n",
       "0                   0                       0                      1   \n",
       "1                   1                       1                      0   \n",
       "2                   0                       0                      1   \n",
       "3                   0                       1                      0   \n",
       "4                   0                       1                      0   \n",
       "\n",
       "   race_Amer-Indian  race_Asian  race_Black  race_Hispanic  race_White  \\\n",
       "0                 0           0           0              0           1   \n",
       "1                 0           0           0              0           1   \n",
       "2                 0           0           0              0           1   \n",
       "3                 0           0           1              0           0   \n",
       "4                 0           0           1              0           0   \n",
       "\n",
       "   sex_Female  sex_Male  income_<=50K  income_>50K  \n",
       "0           0         1             1            0  \n",
       "1           0         1             1            0  \n",
       "2           0         1             1            0  \n",
       "3           0         1             1            0  \n",
       "4           1         0             1            0  "
      ]
     },
     "execution_count": 50,
     "metadata": {},
     "output_type": "execute_result"
    }
   ],
   "source": [
    "adult_num = pd.get_dummies(adult)\n",
    "adult_num.head()"
   ]
  },
  {
   "cell_type": "code",
   "execution_count": 51,
   "id": "a88cb112",
   "metadata": {},
   "outputs": [
    {
     "data": {
      "text/plain": [
       "0       0\n",
       "1       0\n",
       "2       0\n",
       "3       0\n",
       "4       0\n",
       "       ..\n",
       "9407    1\n",
       "9408    0\n",
       "9409    0\n",
       "9410    0\n",
       "9411    0\n",
       "Name: income_>50K, Length: 9412, dtype: uint8"
      ]
     },
     "execution_count": 51,
     "metadata": {},
     "output_type": "execute_result"
    }
   ],
   "source": [
    "#get the target attribute\n",
    "adult_tar = adult_num.iloc[:,-1]\n",
    "adult_tar"
   ]
  },
  {
   "cell_type": "code",
   "execution_count": 52,
   "id": "ab0ad010",
   "metadata": {},
   "outputs": [
    {
     "data": {
      "text/html": [
       "<div>\n",
       "<style scoped>\n",
       "    .dataframe tbody tr th:only-of-type {\n",
       "        vertical-align: middle;\n",
       "    }\n",
       "\n",
       "    .dataframe tbody tr th {\n",
       "        vertical-align: top;\n",
       "    }\n",
       "\n",
       "    .dataframe thead th {\n",
       "        text-align: right;\n",
       "    }\n",
       "</style>\n",
       "<table border=\"1\" class=\"dataframe\">\n",
       "  <thead>\n",
       "    <tr style=\"text-align: right;\">\n",
       "      <th></th>\n",
       "      <th>age</th>\n",
       "      <th>education</th>\n",
       "      <th>hours-per-week</th>\n",
       "      <th>workclass_Private</th>\n",
       "      <th>workclass_Public</th>\n",
       "      <th>workclass_Self-emp</th>\n",
       "      <th>marital-status_Married</th>\n",
       "      <th>marital-status_Single</th>\n",
       "      <th>race_Amer-Indian</th>\n",
       "      <th>race_Asian</th>\n",
       "      <th>race_Black</th>\n",
       "      <th>race_Hispanic</th>\n",
       "      <th>race_White</th>\n",
       "      <th>sex_Female</th>\n",
       "      <th>sex_Male</th>\n",
       "    </tr>\n",
       "  </thead>\n",
       "  <tbody>\n",
       "    <tr>\n",
       "      <th>0</th>\n",
       "      <td>39</td>\n",
       "      <td>13</td>\n",
       "      <td>40</td>\n",
       "      <td>0</td>\n",
       "      <td>1</td>\n",
       "      <td>0</td>\n",
       "      <td>0</td>\n",
       "      <td>1</td>\n",
       "      <td>0</td>\n",
       "      <td>0</td>\n",
       "      <td>0</td>\n",
       "      <td>0</td>\n",
       "      <td>1</td>\n",
       "      <td>0</td>\n",
       "      <td>1</td>\n",
       "    </tr>\n",
       "    <tr>\n",
       "      <th>1</th>\n",
       "      <td>50</td>\n",
       "      <td>13</td>\n",
       "      <td>13</td>\n",
       "      <td>0</td>\n",
       "      <td>0</td>\n",
       "      <td>1</td>\n",
       "      <td>1</td>\n",
       "      <td>0</td>\n",
       "      <td>0</td>\n",
       "      <td>0</td>\n",
       "      <td>0</td>\n",
       "      <td>0</td>\n",
       "      <td>1</td>\n",
       "      <td>0</td>\n",
       "      <td>1</td>\n",
       "    </tr>\n",
       "    <tr>\n",
       "      <th>2</th>\n",
       "      <td>38</td>\n",
       "      <td>9</td>\n",
       "      <td>40</td>\n",
       "      <td>1</td>\n",
       "      <td>0</td>\n",
       "      <td>0</td>\n",
       "      <td>0</td>\n",
       "      <td>1</td>\n",
       "      <td>0</td>\n",
       "      <td>0</td>\n",
       "      <td>0</td>\n",
       "      <td>0</td>\n",
       "      <td>1</td>\n",
       "      <td>0</td>\n",
       "      <td>1</td>\n",
       "    </tr>\n",
       "    <tr>\n",
       "      <th>3</th>\n",
       "      <td>53</td>\n",
       "      <td>7</td>\n",
       "      <td>40</td>\n",
       "      <td>1</td>\n",
       "      <td>0</td>\n",
       "      <td>0</td>\n",
       "      <td>1</td>\n",
       "      <td>0</td>\n",
       "      <td>0</td>\n",
       "      <td>0</td>\n",
       "      <td>1</td>\n",
       "      <td>0</td>\n",
       "      <td>0</td>\n",
       "      <td>0</td>\n",
       "      <td>1</td>\n",
       "    </tr>\n",
       "    <tr>\n",
       "      <th>4</th>\n",
       "      <td>28</td>\n",
       "      <td>13</td>\n",
       "      <td>40</td>\n",
       "      <td>1</td>\n",
       "      <td>0</td>\n",
       "      <td>0</td>\n",
       "      <td>1</td>\n",
       "      <td>0</td>\n",
       "      <td>0</td>\n",
       "      <td>0</td>\n",
       "      <td>1</td>\n",
       "      <td>0</td>\n",
       "      <td>0</td>\n",
       "      <td>1</td>\n",
       "      <td>0</td>\n",
       "    </tr>\n",
       "    <tr>\n",
       "      <th>...</th>\n",
       "      <td>...</td>\n",
       "      <td>...</td>\n",
       "      <td>...</td>\n",
       "      <td>...</td>\n",
       "      <td>...</td>\n",
       "      <td>...</td>\n",
       "      <td>...</td>\n",
       "      <td>...</td>\n",
       "      <td>...</td>\n",
       "      <td>...</td>\n",
       "      <td>...</td>\n",
       "      <td>...</td>\n",
       "      <td>...</td>\n",
       "      <td>...</td>\n",
       "      <td>...</td>\n",
       "    </tr>\n",
       "    <tr>\n",
       "      <th>9407</th>\n",
       "      <td>38</td>\n",
       "      <td>10</td>\n",
       "      <td>60</td>\n",
       "      <td>1</td>\n",
       "      <td>0</td>\n",
       "      <td>0</td>\n",
       "      <td>1</td>\n",
       "      <td>0</td>\n",
       "      <td>0</td>\n",
       "      <td>0</td>\n",
       "      <td>0</td>\n",
       "      <td>0</td>\n",
       "      <td>1</td>\n",
       "      <td>0</td>\n",
       "      <td>1</td>\n",
       "    </tr>\n",
       "    <tr>\n",
       "      <th>9408</th>\n",
       "      <td>25</td>\n",
       "      <td>9</td>\n",
       "      <td>8</td>\n",
       "      <td>1</td>\n",
       "      <td>0</td>\n",
       "      <td>0</td>\n",
       "      <td>0</td>\n",
       "      <td>1</td>\n",
       "      <td>0</td>\n",
       "      <td>0</td>\n",
       "      <td>0</td>\n",
       "      <td>0</td>\n",
       "      <td>1</td>\n",
       "      <td>1</td>\n",
       "      <td>0</td>\n",
       "    </tr>\n",
       "    <tr>\n",
       "      <th>9409</th>\n",
       "      <td>21</td>\n",
       "      <td>10</td>\n",
       "      <td>40</td>\n",
       "      <td>1</td>\n",
       "      <td>0</td>\n",
       "      <td>0</td>\n",
       "      <td>0</td>\n",
       "      <td>1</td>\n",
       "      <td>0</td>\n",
       "      <td>0</td>\n",
       "      <td>1</td>\n",
       "      <td>0</td>\n",
       "      <td>0</td>\n",
       "      <td>0</td>\n",
       "      <td>1</td>\n",
       "    </tr>\n",
       "    <tr>\n",
       "      <th>9410</th>\n",
       "      <td>38</td>\n",
       "      <td>2</td>\n",
       "      <td>53</td>\n",
       "      <td>1</td>\n",
       "      <td>0</td>\n",
       "      <td>0</td>\n",
       "      <td>1</td>\n",
       "      <td>0</td>\n",
       "      <td>0</td>\n",
       "      <td>0</td>\n",
       "      <td>0</td>\n",
       "      <td>0</td>\n",
       "      <td>1</td>\n",
       "      <td>0</td>\n",
       "      <td>1</td>\n",
       "    </tr>\n",
       "    <tr>\n",
       "      <th>9411</th>\n",
       "      <td>39</td>\n",
       "      <td>10</td>\n",
       "      <td>40</td>\n",
       "      <td>1</td>\n",
       "      <td>0</td>\n",
       "      <td>0</td>\n",
       "      <td>0</td>\n",
       "      <td>1</td>\n",
       "      <td>0</td>\n",
       "      <td>0</td>\n",
       "      <td>0</td>\n",
       "      <td>0</td>\n",
       "      <td>1</td>\n",
       "      <td>1</td>\n",
       "      <td>0</td>\n",
       "    </tr>\n",
       "  </tbody>\n",
       "</table>\n",
       "<p>9412 rows × 15 columns</p>\n",
       "</div>"
      ],
      "text/plain": [
       "      age  education  hours-per-week  workclass_Private  workclass_Public  \\\n",
       "0      39         13              40                  0                 1   \n",
       "1      50         13              13                  0                 0   \n",
       "2      38          9              40                  1                 0   \n",
       "3      53          7              40                  1                 0   \n",
       "4      28         13              40                  1                 0   \n",
       "...   ...        ...             ...                ...               ...   \n",
       "9407   38         10              60                  1                 0   \n",
       "9408   25          9               8                  1                 0   \n",
       "9409   21         10              40                  1                 0   \n",
       "9410   38          2              53                  1                 0   \n",
       "9411   39         10              40                  1                 0   \n",
       "\n",
       "      workclass_Self-emp  marital-status_Married  marital-status_Single  \\\n",
       "0                      0                       0                      1   \n",
       "1                      1                       1                      0   \n",
       "2                      0                       0                      1   \n",
       "3                      0                       1                      0   \n",
       "4                      0                       1                      0   \n",
       "...                  ...                     ...                    ...   \n",
       "9407                   0                       1                      0   \n",
       "9408                   0                       0                      1   \n",
       "9409                   0                       0                      1   \n",
       "9410                   0                       1                      0   \n",
       "9411                   0                       0                      1   \n",
       "\n",
       "      race_Amer-Indian  race_Asian  race_Black  race_Hispanic  race_White  \\\n",
       "0                    0           0           0              0           1   \n",
       "1                    0           0           0              0           1   \n",
       "2                    0           0           0              0           1   \n",
       "3                    0           0           1              0           0   \n",
       "4                    0           0           1              0           0   \n",
       "...                ...         ...         ...            ...         ...   \n",
       "9407                 0           0           0              0           1   \n",
       "9408                 0           0           0              0           1   \n",
       "9409                 0           0           1              0           0   \n",
       "9410                 0           0           0              0           1   \n",
       "9411                 0           0           0              0           1   \n",
       "\n",
       "      sex_Female  sex_Male  \n",
       "0              0         1  \n",
       "1              0         1  \n",
       "2              0         1  \n",
       "3              0         1  \n",
       "4              1         0  \n",
       "...          ...       ...  \n",
       "9407           0         1  \n",
       "9408           1         0  \n",
       "9409           0         1  \n",
       "9410           0         1  \n",
       "9411           1         0  \n",
       "\n",
       "[9412 rows x 15 columns]"
      ]
     },
     "execution_count": 52,
     "metadata": {},
     "output_type": "execute_result"
    }
   ],
   "source": [
    "#income>50K is dropped from the dataset\n",
    "adult_dataset = adult_num.iloc[:,0:-2]\n",
    "adult_dataset"
   ]
  },
  {
   "cell_type": "code",
   "execution_count": 53,
   "id": "d1dbb058",
   "metadata": {},
   "outputs": [
    {
     "name": "stdout",
     "output_type": "stream",
     "text": [
      "(1883, 15)\n",
      "(1883,)\n",
      "(7529, 15)\n",
      "(7529,)\n"
     ]
    }
   ],
   "source": [
    "#Using the sklearn the training data and testing data is divided into eighty to twenty ratio with random state as 111 \n",
    "from sklearn.model_selection import train_test_split\n",
    "adult_tr, adult_te, adult_tar_tr, adult_tar_te = train_test_split(adult_dataset, adult_tar, test_size=0.2, random_state=111)\n",
    "print(adult_te.shape)\n",
    "print(adult_tar_te.shape)\n",
    "print(adult_tr.shape)\n",
    "print(adult_tar_tr.shape)"
   ]
  },
  {
   "cell_type": "markdown",
   "id": "297bcfa6",
   "metadata": {},
   "source": [
    "b. Use scikit-learn's KNN implementation for classification.\n",
    "\n",
    "2 (i) : First normalize the data so that all attributes are in the same scale (normalize so that the values are between 0 and 1). Run your KNN classifier using K=10. Generate the confusion matrix (visualize it using Matplotlib) as well as the classification report. Report the model accuracy for both the training and the test sets."
   ]
  },
  {
   "cell_type": "code",
   "execution_count": 54,
   "id": "37cd808e",
   "metadata": {},
   "outputs": [],
   "source": [
    "from sklearn import preprocessing"
   ]
  },
  {
   "cell_type": "code",
   "execution_count": 55,
   "id": "fa463b43",
   "metadata": {},
   "outputs": [],
   "source": [
    "minmax_scaler = preprocessing.MinMaxScaler().fit(adult_tr)\n",
    "adult_tr_norm = minmax_scaler.transform(adult_tr)\n",
    "adult_tr_norm = pd.DataFrame(adult_tr_norm, columns = adult_tr.columns, index = adult_tr.index)\n",
    "adult_te_norm = minmax_scaler.transform(adult_te)\n",
    "adult_te_norm = pd.DataFrame(adult_te_norm, columns = adult_te.columns, index = adult_te.index)"
   ]
  },
  {
   "cell_type": "code",
   "execution_count": 56,
   "id": "1d358b68",
   "metadata": {},
   "outputs": [
    {
     "data": {
      "text/html": [
       "<div>\n",
       "<style scoped>\n",
       "    .dataframe tbody tr th:only-of-type {\n",
       "        vertical-align: middle;\n",
       "    }\n",
       "\n",
       "    .dataframe tbody tr th {\n",
       "        vertical-align: top;\n",
       "    }\n",
       "\n",
       "    .dataframe thead th {\n",
       "        text-align: right;\n",
       "    }\n",
       "</style>\n",
       "<table border=\"1\" class=\"dataframe\">\n",
       "  <thead>\n",
       "    <tr style=\"text-align: right;\">\n",
       "      <th></th>\n",
       "      <th>age</th>\n",
       "      <th>education</th>\n",
       "      <th>hours-per-week</th>\n",
       "      <th>workclass_Private</th>\n",
       "      <th>workclass_Public</th>\n",
       "      <th>workclass_Self-emp</th>\n",
       "      <th>marital-status_Married</th>\n",
       "      <th>marital-status_Single</th>\n",
       "      <th>race_Amer-Indian</th>\n",
       "      <th>race_Asian</th>\n",
       "      <th>race_Black</th>\n",
       "      <th>race_Hispanic</th>\n",
       "      <th>race_White</th>\n",
       "      <th>sex_Female</th>\n",
       "      <th>sex_Male</th>\n",
       "    </tr>\n",
       "  </thead>\n",
       "  <tbody>\n",
       "    <tr>\n",
       "      <th>1699</th>\n",
       "      <td>0.07</td>\n",
       "      <td>0.40</td>\n",
       "      <td>0.35</td>\n",
       "      <td>1.0</td>\n",
       "      <td>0.0</td>\n",
       "      <td>0.0</td>\n",
       "      <td>1.0</td>\n",
       "      <td>0.0</td>\n",
       "      <td>0.0</td>\n",
       "      <td>0.0</td>\n",
       "      <td>1.0</td>\n",
       "      <td>0.0</td>\n",
       "      <td>0.0</td>\n",
       "      <td>1.0</td>\n",
       "      <td>0.0</td>\n",
       "    </tr>\n",
       "    <tr>\n",
       "      <th>542</th>\n",
       "      <td>0.12</td>\n",
       "      <td>0.60</td>\n",
       "      <td>0.45</td>\n",
       "      <td>0.0</td>\n",
       "      <td>0.0</td>\n",
       "      <td>1.0</td>\n",
       "      <td>1.0</td>\n",
       "      <td>0.0</td>\n",
       "      <td>0.0</td>\n",
       "      <td>0.0</td>\n",
       "      <td>0.0</td>\n",
       "      <td>0.0</td>\n",
       "      <td>1.0</td>\n",
       "      <td>0.0</td>\n",
       "      <td>1.0</td>\n",
       "    </tr>\n",
       "    <tr>\n",
       "      <th>2985</th>\n",
       "      <td>0.58</td>\n",
       "      <td>0.53</td>\n",
       "      <td>0.40</td>\n",
       "      <td>1.0</td>\n",
       "      <td>0.0</td>\n",
       "      <td>0.0</td>\n",
       "      <td>0.0</td>\n",
       "      <td>1.0</td>\n",
       "      <td>0.0</td>\n",
       "      <td>0.0</td>\n",
       "      <td>1.0</td>\n",
       "      <td>0.0</td>\n",
       "      <td>0.0</td>\n",
       "      <td>1.0</td>\n",
       "      <td>0.0</td>\n",
       "    </tr>\n",
       "    <tr>\n",
       "      <th>699</th>\n",
       "      <td>0.21</td>\n",
       "      <td>0.60</td>\n",
       "      <td>0.40</td>\n",
       "      <td>1.0</td>\n",
       "      <td>0.0</td>\n",
       "      <td>0.0</td>\n",
       "      <td>0.0</td>\n",
       "      <td>1.0</td>\n",
       "      <td>0.0</td>\n",
       "      <td>0.0</td>\n",
       "      <td>1.0</td>\n",
       "      <td>0.0</td>\n",
       "      <td>0.0</td>\n",
       "      <td>1.0</td>\n",
       "      <td>0.0</td>\n",
       "    </tr>\n",
       "    <tr>\n",
       "      <th>1090</th>\n",
       "      <td>0.29</td>\n",
       "      <td>0.80</td>\n",
       "      <td>0.60</td>\n",
       "      <td>1.0</td>\n",
       "      <td>0.0</td>\n",
       "      <td>0.0</td>\n",
       "      <td>1.0</td>\n",
       "      <td>0.0</td>\n",
       "      <td>0.0</td>\n",
       "      <td>0.0</td>\n",
       "      <td>0.0</td>\n",
       "      <td>0.0</td>\n",
       "      <td>1.0</td>\n",
       "      <td>0.0</td>\n",
       "      <td>1.0</td>\n",
       "    </tr>\n",
       "  </tbody>\n",
       "</table>\n",
       "</div>"
      ],
      "text/plain": [
       "       age  education  hours-per-week  workclass_Private  workclass_Public  \\\n",
       "1699  0.07       0.40            0.35                1.0               0.0   \n",
       "542   0.12       0.60            0.45                0.0               0.0   \n",
       "2985  0.58       0.53            0.40                1.0               0.0   \n",
       "699   0.21       0.60            0.40                1.0               0.0   \n",
       "1090  0.29       0.80            0.60                1.0               0.0   \n",
       "\n",
       "      workclass_Self-emp  marital-status_Married  marital-status_Single  \\\n",
       "1699                 0.0                     1.0                    0.0   \n",
       "542                  1.0                     1.0                    0.0   \n",
       "2985                 0.0                     0.0                    1.0   \n",
       "699                  0.0                     0.0                    1.0   \n",
       "1090                 0.0                     1.0                    0.0   \n",
       "\n",
       "      race_Amer-Indian  race_Asian  race_Black  race_Hispanic  race_White  \\\n",
       "1699               0.0         0.0         1.0            0.0         0.0   \n",
       "542                0.0         0.0         0.0            0.0         1.0   \n",
       "2985               0.0         0.0         1.0            0.0         0.0   \n",
       "699                0.0         0.0         1.0            0.0         0.0   \n",
       "1090               0.0         0.0         0.0            0.0         1.0   \n",
       "\n",
       "      sex_Female  sex_Male  \n",
       "1699         1.0       0.0  \n",
       "542          0.0       1.0  \n",
       "2985         1.0       0.0  \n",
       "699          1.0       0.0  \n",
       "1090         0.0       1.0  "
      ]
     },
     "execution_count": 56,
     "metadata": {},
     "output_type": "execute_result"
    }
   ],
   "source": [
    "adult_te_norm.head()"
   ]
  },
  {
   "cell_type": "code",
   "execution_count": 57,
   "id": "ff787b54",
   "metadata": {},
   "outputs": [
    {
     "data": {
      "text/plain": [
       "KNeighborsClassifier(n_neighbors=10)"
      ]
     },
     "execution_count": 57,
     "metadata": {},
     "output_type": "execute_result"
    }
   ],
   "source": [
    "from sklearn import neighbors, tree, naive_bayes\n",
    "#KNN Classifier\n",
    "N_neigh = 10\n",
    "knn_clf = neighbors.KNeighborsClassifier(N_neigh)\n",
    "knn_clf.fit(adult_tr_norm, adult_tar_tr)"
   ]
  },
  {
   "cell_type": "code",
   "execution_count": 58,
   "id": "13f21d20",
   "metadata": {},
   "outputs": [
    {
     "name": "stdout",
     "output_type": "stream",
     "text": [
      "[0 0 0 ... 0 0 1]\n"
     ]
    }
   ],
   "source": [
    "#Predict function on the test instances are called \n",
    "knn_preds_test = knn_clf.predict(adult_te_norm)\n",
    "print(knn_preds_test)"
   ]
  },
  {
   "cell_type": "code",
   "execution_count": 59,
   "id": "55339a6d",
   "metadata": {},
   "outputs": [
    {
     "name": "stdout",
     "output_type": "stream",
     "text": [
      "              precision    recall  f1-score   support\n",
      "\n",
      "           0       0.84      0.91      0.87      1417\n",
      "           1       0.63      0.47      0.54       466\n",
      "\n",
      "    accuracy                           0.80      1883\n",
      "   macro avg       0.74      0.69      0.71      1883\n",
      "weighted avg       0.79      0.80      0.79      1883\n",
      "\n"
     ]
    }
   ],
   "source": [
    "#Using the classification matrix, the classifier accuracy is evaluated\n",
    "from sklearn.metrics import classification_report\n",
    "print(classification_report(adult_tar_te, knn_preds_test))"
   ]
  },
  {
   "cell_type": "code",
   "execution_count": 60,
   "id": "7137a342",
   "metadata": {},
   "outputs": [
    {
     "name": "stdout",
     "output_type": "stream",
     "text": [
      "[[1290  127]\n",
      " [ 247  219]]\n"
     ]
    }
   ],
   "source": [
    "#Using the confusion matrix, the classifier accuracy is evaluated\n",
    "from sklearn.metrics import confusion_matrix\n",
    "knn_cm = confusion_matrix(adult_tar_te, knn_preds_test)\n",
    "print(knn_cm)"
   ]
  },
  {
   "cell_type": "code",
   "execution_count": 61,
   "id": "88c993dc",
   "metadata": {},
   "outputs": [
    {
     "data": {
      "image/png": "[encoded data removed]",
      "text/plain": [
       "<Figure size 288x288 with 2 Axes>"
      ]
     },
     "metadata": {
      "needs_background": "light"
     },
     "output_type": "display_data"
    }
   ],
   "source": [
    "#Plotting the KNN Confusion Matrix\n",
    "plt.matshow(knn_cm,cmap = plt.cm.Accent_r)\n",
    "plt.title('KNN Confusion Matrix')\n",
    "plt.colorbar()\n",
    "plt.ylabel('Actual')\n",
    "plt.xlabel('Predicted')\n",
    "plt.xticks([0,1],['No','Yes'])\n",
    "plt.yticks([0,1],['No','Yes'])\n",
    "for y in range(knn_cm.shape[0]):\n",
    "    for x in range(knn_cm.shape[1]):\n",
    "        plt.text(x, y, '{}'.format(knn_cm[y,x]), horizontalalignment = 'center', verticalalignment = 'center',)\n",
    "plt.show()"
   ]
  },
  {
   "cell_type": "code",
   "execution_count": 62,
   "id": "4b951325",
   "metadata": {},
   "outputs": [
    {
     "name": "stdout",
     "output_type": "stream",
     "text": [
      "0.8426085801567273\n"
     ]
    }
   ],
   "source": [
    "#The average accuracy score for training data is computed \n",
    "print(knn_clf.score(adult_tr_norm, adult_tar_tr))"
   ]
  },
  {
   "cell_type": "code",
   "execution_count": 63,
   "id": "f0b5bcf6",
   "metadata": {},
   "outputs": [
    {
     "name": "stdout",
     "output_type": "stream",
     "text": [
      "0.8013807753584705\n"
     ]
    }
   ],
   "source": [
    "#The average accuracy for testing data is computed \n",
    "print(knn_clf.score(adult_te_norm, adult_tar_te))"
   ]
  },
  {
   "cell_type": "markdown",
   "id": "70f33e32",
   "metadata": {},
   "source": [
    "2(ii): Next, experiment with different values of K (say from 5 to 100) and the weight parameter (i.e., with or without distance weighting) to see if you can improve accuracy of the KNN classifier. Show the results in a single plot comparing distance and uniform weighting schemes across the different values of K. Use the best values of these parameter (K and weighting scheme) to train a new KNN classifier and report the accuracy of this classifier on the training and test sets."
   ]
  },
  {
   "cell_type": "code",
   "execution_count": 64,
   "id": "b5609123",
   "metadata": {},
   "outputs": [],
   "source": [
    "def diffK(adult_test_norm, adult_tar_te, adult_tr_norm, adult_tar_tr):\n",
    "    acc= np.zeros([100,5], dtype = float)\n",
    "    index=0\n",
    "    for K in range(1,101):\n",
    "        knn_clf = neighbors.KNeighborsClassifier(K)\n",
    "        knn_clf.fit(adult_tr_norm, adult_tar_tr)\n",
    "        acc_noWeight_tr =(knn_clf.score(adult_tr_norm, adult_tar_tr))\n",
    "        acc_noWeight_te =(knn_clf.score(adult_te_norm, adult_tar_te))\n",
    "        knn_clf_dist = neighbors.KNeighborsClassifier(K, weights = 'distance')\n",
    "        knn_clf_dist.fit(adult_tr_norm, adult_tar_tr)\n",
    "        acc_distance_tr =(knn_clf_dist.score(adult_tr_norm, adult_tar_tr))\n",
    "        acc_distance_te =(knn_clf_dist.score(adult_te_norm, adult_tar_te))\n",
    "\n",
    "        acc[index] = [K, acc_noWeight_tr,acc_noWeight_te,  acc_distance_tr, acc_distance_te]\n",
    "        index +=1\n",
    "    \n",
    "    return acc\n"
   ]
  },
  {
   "cell_type": "code",
   "execution_count": 65,
   "id": "7071aede",
   "metadata": {},
   "outputs": [],
   "source": [
    "acc = diffK(adult_te_norm, adult_tar_te, adult_tr_norm, adult_tar_tr)"
   ]
  },
  {
   "cell_type": "code",
   "execution_count": 66,
   "id": "189feb27",
   "metadata": {},
   "outputs": [
    {
     "data": {
      "text/html": [
       "<div>\n",
       "<style scoped>\n",
       "    .dataframe tbody tr th:only-of-type {\n",
       "        vertical-align: middle;\n",
       "    }\n",
       "\n",
       "    .dataframe tbody tr th {\n",
       "        vertical-align: top;\n",
       "    }\n",
       "\n",
       "    .dataframe thead th {\n",
       "        text-align: right;\n",
       "    }\n",
       "</style>\n",
       "<table border=\"1\" class=\"dataframe\">\n",
       "  <thead>\n",
       "    <tr style=\"text-align: right;\">\n",
       "      <th></th>\n",
       "      <th>K</th>\n",
       "      <th>NoWeight Tr</th>\n",
       "      <th>NoWeight Te</th>\n",
       "      <th>Distance-Weight Tr</th>\n",
       "      <th>Distance-Weight Te</th>\n",
       "    </tr>\n",
       "  </thead>\n",
       "  <tbody>\n",
       "    <tr>\n",
       "      <th>0</th>\n",
       "      <td>1.0</td>\n",
       "      <td>0.93</td>\n",
       "      <td>0.76</td>\n",
       "      <td>0.93</td>\n",
       "      <td>0.76</td>\n",
       "    </tr>\n",
       "    <tr>\n",
       "      <th>1</th>\n",
       "      <td>2.0</td>\n",
       "      <td>0.87</td>\n",
       "      <td>0.79</td>\n",
       "      <td>0.94</td>\n",
       "      <td>0.76</td>\n",
       "    </tr>\n",
       "    <tr>\n",
       "      <th>2</th>\n",
       "      <td>3.0</td>\n",
       "      <td>0.87</td>\n",
       "      <td>0.78</td>\n",
       "      <td>0.94</td>\n",
       "      <td>0.76</td>\n",
       "    </tr>\n",
       "    <tr>\n",
       "      <th>3</th>\n",
       "      <td>4.0</td>\n",
       "      <td>0.85</td>\n",
       "      <td>0.79</td>\n",
       "      <td>0.94</td>\n",
       "      <td>0.77</td>\n",
       "    </tr>\n",
       "    <tr>\n",
       "      <th>4</th>\n",
       "      <td>5.0</td>\n",
       "      <td>0.85</td>\n",
       "      <td>0.78</td>\n",
       "      <td>0.94</td>\n",
       "      <td>0.77</td>\n",
       "    </tr>\n",
       "  </tbody>\n",
       "</table>\n",
       "</div>"
      ],
      "text/plain": [
       "     K  NoWeight Tr  NoWeight Te  Distance-Weight Tr  Distance-Weight Te\n",
       "0  1.0         0.93         0.76                0.93                0.76\n",
       "1  2.0         0.87         0.79                0.94                0.76\n",
       "2  3.0         0.87         0.78                0.94                0.76\n",
       "3  4.0         0.85         0.79                0.94                0.77\n",
       "4  5.0         0.85         0.78                0.94                0.77"
      ]
     },
     "execution_count": 66,
     "metadata": {},
     "output_type": "execute_result"
    }
   ],
   "source": [
    "acc_DF = pd.DataFrame(acc, columns = ['K', 'NoWeight Tr', 'NoWeight Te','Distance-Weight Tr', 'Distance-Weight Te',] )\n",
    "acc_DF.head()"
   ]
  },
  {
   "cell_type": "code",
   "execution_count": 67,
   "id": "4a10792a",
   "metadata": {},
   "outputs": [
    {
     "data": {
      "image/png": "[encoded data removed]",
      "text/plain": [
       "<Figure size 576x360 with 1 Axes>"
      ]
     },
     "metadata": {
      "needs_background": "light"
     },
     "output_type": "display_data"
    }
   ],
   "source": [
    "plt.figure(figsize=(8,5))\n",
    "plt.plot(acc_DF['K'], acc_DF['NoWeight Tr'], label =\"Uniform Tr\")\n",
    "plt.plot(acc_DF['K'], acc_DF['NoWeight Te'], label =\"Uniform Te\")\n",
    "plt.plot(acc_DF['K'], acc_DF['Distance-Weight Tr'], label =\"DistanceWeight Tr\")\n",
    "plt.plot(acc_DF['K'], acc_DF['Distance-Weight Te'], label =\"DistanceWeight Te\")\n",
    "plt.xlabel('K')\n",
    "plt.ylabel('Accuracy')\n",
    "plt.title(\"KNN Classifier Accurcy\")\n",
    "plt.grid(linestyle = '--')\n",
    "plt.xticks(df['K'])\n",
    "plt.legend(loc='center left', bbox_to_anchor=(1,0.5))\n",
    "plt.show()"
   ]
  },
  {
   "cell_type": "code",
   "execution_count": 68,
   "id": "0011e01f",
   "metadata": {},
   "outputs": [
    {
     "name": "stdout",
     "output_type": "stream",
     "text": [
      "Accuracy for Training when K=4: 0.8242794527825741\n",
      "Accuracy for Testing when K=4: 0.8120021242697822\n"
     ]
    }
   ],
   "source": [
    "#The testing and the training scores of the Uniform distance had lesser gap compared to the distance weight\n",
    "#The highest accuracy for unifrom distance is K=27 for the smallest K\n",
    "K = 27\n",
    "knn_clf = neighbors.KNeighborsClassifier(K)\n",
    "knn_clf.fit(adult_tr_norm, adult_tar_tr)\n",
    "tr_acc = knn_clf.score(adult_tr_norm, adult_tar_tr)\n",
    "te_acc = knn_clf.score(adult_te_norm, adult_tar_te)\n",
    "print(\"Accuracy for Training when K=4: \" + str(tr_acc))\n",
    "print(\"Accuracy for Testing when K=4: \" + str(te_acc))"
   ]
  },
  {
   "cell_type": "markdown",
   "id": "2c976f95",
   "metadata": {},
   "source": [
    "2(iii) : Next, using only \"uniform\" weights, compare the accuracy of the KNN classifier across the different values of K on the training and the test data. You should show the results in a single figure with two line plots for the test and training accuracy values (y-axis) and with values of K in the x-axis. What range of values of K represent overfitting? Briefly explain."
   ]
  },
  {
   "cell_type": "code",
   "execution_count": 69,
   "id": "b80b7edd",
   "metadata": {},
   "outputs": [],
   "source": [
    "def knn_test_trainAccuract(adult_te_norm, adult_tar_te, adult_tr_norm, adult_tar_tr):\n",
    "    acc= np.zeros([100,3], dtype = float)\n",
    "    index=0\n",
    "    for K in range(1,101):\n",
    "        knn_clf_tr = neighbors.KNeighborsClassifier(K)\n",
    "        knn_clf_tr.fit(adult_tr_norm, adult_tar_tr)\n",
    "        acc_tr =(knn_clf_tr.score(adult_tr_norm, adult_tar_tr))\n",
    "        knn_clf_te = neighbors.KNeighborsClassifier(K)\n",
    "        knn_clf_te.fit(adult_te_norm, adult_tar_te)\n",
    "        acc_te =(knn_clf_tr.score(adult_te_norm, adult_tar_te))\n",
    "        acc[index] = [K, acc_tr, acc_te]\n",
    "        index +=1    \n",
    "    return acc"
   ]
  },
  {
   "cell_type": "code",
   "execution_count": 70,
   "id": "74775809",
   "metadata": {},
   "outputs": [],
   "source": [
    "acc = knn_test_trainAccuract(adult_te_norm, adult_tar_te, adult_tr_norm, adult_tar_tr)"
   ]
  },
  {
   "cell_type": "code",
   "execution_count": 71,
   "id": "fe32e435",
   "metadata": {},
   "outputs": [
    {
     "data": {
      "text/html": [
       "<div>\n",
       "<style scoped>\n",
       "    .dataframe tbody tr th:only-of-type {\n",
       "        vertical-align: middle;\n",
       "    }\n",
       "\n",
       "    .dataframe tbody tr th {\n",
       "        vertical-align: top;\n",
       "    }\n",
       "\n",
       "    .dataframe thead th {\n",
       "        text-align: right;\n",
       "    }\n",
       "</style>\n",
       "<table border=\"1\" class=\"dataframe\">\n",
       "  <thead>\n",
       "    <tr style=\"text-align: right;\">\n",
       "      <th></th>\n",
       "      <th>K</th>\n",
       "      <th>Tr Accuracy</th>\n",
       "      <th>Te Accuracy</th>\n",
       "    </tr>\n",
       "  </thead>\n",
       "  <tbody>\n",
       "    <tr>\n",
       "      <th>0</th>\n",
       "      <td>1.0</td>\n",
       "      <td>0.93</td>\n",
       "      <td>0.76</td>\n",
       "    </tr>\n",
       "    <tr>\n",
       "      <th>1</th>\n",
       "      <td>2.0</td>\n",
       "      <td>0.87</td>\n",
       "      <td>0.79</td>\n",
       "    </tr>\n",
       "    <tr>\n",
       "      <th>2</th>\n",
       "      <td>3.0</td>\n",
       "      <td>0.87</td>\n",
       "      <td>0.78</td>\n",
       "    </tr>\n",
       "    <tr>\n",
       "      <th>3</th>\n",
       "      <td>4.0</td>\n",
       "      <td>0.85</td>\n",
       "      <td>0.79</td>\n",
       "    </tr>\n",
       "    <tr>\n",
       "      <th>4</th>\n",
       "      <td>5.0</td>\n",
       "      <td>0.85</td>\n",
       "      <td>0.78</td>\n",
       "    </tr>\n",
       "  </tbody>\n",
       "</table>\n",
       "</div>"
      ],
      "text/plain": [
       "     K  Tr Accuracy  Te Accuracy\n",
       "0  1.0         0.93         0.76\n",
       "1  2.0         0.87         0.79\n",
       "2  3.0         0.87         0.78\n",
       "3  4.0         0.85         0.79\n",
       "4  5.0         0.85         0.78"
      ]
     },
     "execution_count": 71,
     "metadata": {},
     "output_type": "execute_result"
    }
   ],
   "source": [
    "acc_tr_te = pd.DataFrame(acc, columns = ['K', 'Tr Accuracy', 'Te Accuracy'] )\n",
    "acc_tr_te.head()"
   ]
  },
  {
   "cell_type": "code",
   "execution_count": 72,
   "id": "cebdaa0c",
   "metadata": {},
   "outputs": [
    {
     "data": {
      "image/png": "[encoded data removed]",
      "text/plain": [
       "<Figure size 576x360 with 1 Axes>"
      ]
     },
     "metadata": {
      "needs_background": "light"
     },
     "output_type": "display_data"
    }
   ],
   "source": [
    "#Tr - Train\n",
    "#Te - Test\n",
    "plt.figure(figsize=(8,5))\n",
    "plt.plot(acc_tr_te['K'], acc_tr_te['Tr Accuracy'], label =\"Tr Accuracy\")\n",
    "plt.plot(acc_tr_te['K'], acc_tr_te['Te Accuracy'], label =\"Te Accuracy\")\n",
    "plt.xlabel('K')\n",
    "plt.ylabel('Accuracy')\n",
    "plt.title(\"Accuracy for KNN Classifier\")\n",
    "plt.grid(linestyle = '--')\n",
    "plt.xticks(df['K'])\n",
    "plt.legend(loc='center left', bbox_to_anchor=(1,0.5))\n",
    "plt.show()"
   ]
  },
  {
   "cell_type": "markdown",
   "id": "0cf792c3",
   "metadata": {},
   "source": [
    "The points from 3-20 in K Values have overfitting present by 1% +/- 1.5%. However, when the K value increases, the training and testing accuracy gap gets smaller, resulting in less overfitting."
   ]
  },
  {
   "cell_type": "markdown",
   "id": "b5276eb8",
   "metadata": {},
   "source": [
    "c. [10 pts] Using the non-normalized training and test data, perform classification using scikit-learn's decision tree classifier (using the default parameters). As above, generate the confusion matrix, classification report, and average accuracy scores of the classifier. Compare the average accuracy score on the test and the training data sets. What does the comparison tell you in terms of bias-variance trade-off? Next, create another decision tree model (trained on the non-normalized training data) using \"gini\" index as the selection criteria, min_samples_split=10, and max_depth=4. Show the accuracy results for both the training and test sets. For this model generate a visualization of tree embedded in the Jupyter Notebook."
   ]
  },
  {
   "cell_type": "code",
   "execution_count": 73,
   "id": "449473a1",
   "metadata": {},
   "outputs": [],
   "source": [
    "from sklearn import tree\n",
    "tree_clf = tree.DecisionTreeClassifier(criterion='entropy', min_samples_split=3)"
   ]
  },
  {
   "cell_type": "code",
   "execution_count": 74,
   "id": "d5c5c5d2",
   "metadata": {},
   "outputs": [],
   "source": [
    "tree_clf = tree_clf.fit(adult_tr, adult_tar_tr)"
   ]
  },
  {
   "cell_type": "code",
   "execution_count": 75,
   "id": "e8e52494",
   "metadata": {},
   "outputs": [
    {
     "name": "stdout",
     "output_type": "stream",
     "text": [
      "[0 0 0 ... 0 0 0]\n"
     ]
    }
   ],
   "source": [
    "tree_preds_te = tree_clf.predict(adult_te)\n",
    "print(tree_preds_te)"
   ]
  },
  {
   "cell_type": "code",
   "execution_count": 76,
   "id": "b8e0bd23",
   "metadata": {},
   "outputs": [
    {
     "name": "stdout",
     "output_type": "stream",
     "text": [
      "Test score 0.7604885820499203\n",
      "Train score 0.9313321822287156\n"
     ]
    }
   ],
   "source": [
    "print(\"Test score\",tree_clf.score(adult_te, adult_tar_te))\n",
    "print(\"Train score\",tree_clf.score(adult_tr, adult_tar_tr))"
   ]
  },
  {
   "cell_type": "code",
   "execution_count": 77,
   "id": "849862aa",
   "metadata": {},
   "outputs": [
    {
     "name": "stdout",
     "output_type": "stream",
     "text": [
      "              precision    recall  f1-score   support\n",
      "\n",
      "           0       0.82      0.87      0.84      1417\n",
      "           1       0.52      0.44      0.48       466\n",
      "\n",
      "    accuracy                           0.76      1883\n",
      "   macro avg       0.67      0.65      0.66      1883\n",
      "weighted avg       0.75      0.76      0.75      1883\n",
      "\n"
     ]
    }
   ],
   "source": [
    "print(classification_report(adult_tar_te, tree_preds_te))"
   ]
  },
  {
   "cell_type": "code",
   "execution_count": 78,
   "id": "682b0a8b",
   "metadata": {},
   "outputs": [
    {
     "name": "stdout",
     "output_type": "stream",
     "text": [
      "[[1227  190]\n",
      " [ 261  205]]\n"
     ]
    }
   ],
   "source": [
    "tree_cm = confusion_matrix(adult_tar_te, tree_preds_te)\n",
    "print(tree_cm)"
   ]
  },
  {
   "cell_type": "markdown",
   "id": "f10dc9b2",
   "metadata": {},
   "source": [
    "The overfitting occurs in the Decision Tree, and there is a gap of 18% between training and the testing accuracy.   "
   ]
  },
  {
   "cell_type": "code",
   "execution_count": 79,
   "id": "f74c6b1e",
   "metadata": {},
   "outputs": [],
   "source": [
    "tree_clf_2 = tree.DecisionTreeClassifier(criterion ='gini', min_samples_split = 10, max_depth =4)"
   ]
  },
  {
   "cell_type": "code",
   "execution_count": 80,
   "id": "a7431a2b",
   "metadata": {},
   "outputs": [],
   "source": [
    "tree_clf_2 = tree_clf_2.fit(adult_tr, adult_tar_tr)"
   ]
  },
  {
   "cell_type": "code",
   "execution_count": 81,
   "id": "bb415e9d",
   "metadata": {},
   "outputs": [
    {
     "name": "stdout",
     "output_type": "stream",
     "text": [
      "[0 0 0 ... 0 0 0]\n"
     ]
    }
   ],
   "source": [
    "tree_preds_test_2 = tree_clf_2.predict(adult_te)\n",
    "print(tree_preds_test_2)"
   ]
  },
  {
   "cell_type": "code",
   "execution_count": 82,
   "id": "fc0312f2",
   "metadata": {},
   "outputs": [
    {
     "name": "stdout",
     "output_type": "stream",
     "text": [
      "Test score 0.8130642591609134\n",
      "Train score 0.817638464603533\n"
     ]
    }
   ],
   "source": [
    "print(\"Test score\",tree_clf_2.score(adult_te, adult_tar_te))\n",
    "print(\"Train score\",tree_clf_2.score(adult_tr, adult_tar_tr))"
   ]
  },
  {
   "cell_type": "code",
   "execution_count": 83,
   "id": "5f626592",
   "metadata": {},
   "outputs": [
    {
     "name": "stdout",
     "output_type": "stream",
     "text": [
      "              precision    recall  f1-score   support\n",
      "\n",
      "           0       0.84      0.94      0.88      1417\n",
      "           1       0.69      0.44      0.54       466\n",
      "\n",
      "    accuracy                           0.81      1883\n",
      "   macro avg       0.76      0.69      0.71      1883\n",
      "weighted avg       0.80      0.81      0.80      1883\n",
      "\n"
     ]
    }
   ],
   "source": [
    "print(classification_report(adult_tar_te, tree_preds_test_2))"
   ]
  },
  {
   "cell_type": "code",
   "execution_count": 84,
   "id": "16aab0ac",
   "metadata": {},
   "outputs": [
    {
     "name": "stdout",
     "output_type": "stream",
     "text": [
      "[[1327   90]\n",
      " [ 262  204]]\n"
     ]
    }
   ],
   "source": [
    "tree_cm_2 = confusion_matrix(adult_tar_te, tree_preds_test_2)\n",
    "print(tree_cm_2)"
   ]
  },
  {
   "cell_type": "code",
   "execution_count": 85,
   "id": "a5e5fec6",
   "metadata": {},
   "outputs": [
    {
     "data": {
      "image/png": "[encoded data removed]",
      "text/plain": [
       "<Figure size 288x288 with 2 Axes>"
      ]
     },
     "metadata": {
      "needs_background": "light"
     },
     "output_type": "display_data"
    }
   ],
   "source": [
    "import pylab as plt\n",
    "%matplotlib inline\n",
    "plt.matshow(tree_cm_2)\n",
    "plt.title('Confusion matrix')\n",
    "plt.colorbar()\n",
    "plt.ylabel('Actual')\n",
    "plt.xlabel('Predicted')\n",
    "plt.show()"
   ]
  },
  {
   "cell_type": "code",
   "execution_count": 86,
   "id": "16841c98",
   "metadata": {},
   "outputs": [],
   "source": [
    "#Importing Packages\n",
    "from sklearn.tree import export_graphviz\n",
    "from IPython.display import SVG\n",
    "from graphviz import Source\n",
    "from IPython.display import display"
   ]
  },
  {
   "cell_type": "code",
   "execution_count": 87,
   "id": "e71f7093",
   "metadata": {},
   "outputs": [],
   "source": [
    "tree = export_graphviz(tree_clf_2, out_file=None, feature_names= adult_tr.columns, class_names=['0','1'])\n",
    "graph = Source(tree)"
   ]
  },
  {
   "cell_type": "code",
   "execution_count": 88,
   "id": "4d9f2c9c",
   "metadata": {},
   "outputs": [
    {
     "data": {
      "image/svg+xml": [
       "<svg xmlns=\"http://www.w3.org/2000/svg\" xmlns:xlink=\"http://www.w3.org/1999/xlink\" width=\"2186pt\" height=\"552pt\" viewBox=\"0.00 0.00 2185.50 552.00\">\n",
       "<g id=\"graph0\" class=\"graph\" transform=\"scale(1 1) rotate(0) translate(4 548)\">\n",
       "<title>Tree</title>\n",
       "<polygon fill=\"white\" stroke=\"none\" points=\"-4,4 -4,-548 2181.5,-548 2181.5,4 -4,4\"/>\n",
       "<!-- 0 -->\n",
       "<g id=\"node1\" class=\"node\">\n",
       "<title>0</title>\n",
       "<polygon fill=\"none\" stroke=\"black\" points=\"1172,-544 972,-544 972,-461 1172,-461 1172,-544\"/>\n",
       "<text text-anchor=\"middle\" x=\"1072\" y=\"-528.8\" font-family=\"Helvetica,sans-Serif\" font-size=\"14.00\">marital-status_Married &lt;= 0.5</text>\n",
       "<text text-anchor=\"middle\" x=\"1072\" y=\"-513.8\" font-family=\"Helvetica,sans-Serif\" font-size=\"14.00\">gini = 0.371</text>\n",
       "<text text-anchor=\"middle\" x=\"1072\" y=\"-498.8\" font-family=\"Helvetica,sans-Serif\" font-size=\"14.00\">samples = 7529</text>\n",
       "<text text-anchor=\"middle\" x=\"1072\" y=\"-483.8\" font-family=\"Helvetica,sans-Serif\" font-size=\"14.00\">value = [5676, 1853]</text>\n",
       "<text text-anchor=\"middle\" x=\"1072\" y=\"-468.8\" font-family=\"Helvetica,sans-Serif\" font-size=\"14.00\">class = 0</text>\n",
       "</g>\n",
       "<!-- 1 -->\n",
       "<g id=\"node2\" class=\"node\">\n",
       "<title>1</title>\n",
       "<polygon fill=\"none\" stroke=\"black\" points=\"889,-425 751,-425 751,-342 889,-342 889,-425\"/>\n",
       "<text text-anchor=\"middle\" x=\"820\" y=\"-409.8\" font-family=\"Helvetica,sans-Serif\" font-size=\"14.00\">education &lt;= 13.5</text>\n",
       "<text text-anchor=\"middle\" x=\"820\" y=\"-394.8\" font-family=\"Helvetica,sans-Serif\" font-size=\"14.00\">gini = 0.12</text>\n",
       "<text text-anchor=\"middle\" x=\"820\" y=\"-379.8\" font-family=\"Helvetica,sans-Serif\" font-size=\"14.00\">samples = 3750</text>\n",
       "<text text-anchor=\"middle\" x=\"820\" y=\"-364.8\" font-family=\"Helvetica,sans-Serif\" font-size=\"14.00\">value = [3509, 241]</text>\n",
       "<text text-anchor=\"middle\" x=\"820\" y=\"-349.8\" font-family=\"Helvetica,sans-Serif\" font-size=\"14.00\">class = 0</text>\n",
       "</g>\n",
       "<!-- 0&#45;&gt;1 -->\n",
       "<g id=\"edge1\" class=\"edge\">\n",
       "<title>0-&gt;1</title>\n",
       "<path fill=\"none\" stroke=\"black\" d=\"M984.57,-460.91C956.47,-447.86 925.54,-433.5 898.15,-420.79\"/>\n",
       "<polygon fill=\"black\" stroke=\"black\" points=\"899.56,-417.58 889.01,-416.54 896.61,-423.93 899.56,-417.58\"/>\n",
       "<text text-anchor=\"middle\" x=\"897.6\" y=\"-436.32\" font-family=\"Helvetica,sans-Serif\" font-size=\"14.00\">True</text>\n",
       "</g>\n",
       "<!-- 16 -->\n",
       "<g id=\"node17\" class=\"node\">\n",
       "<title>16</title>\n",
       "<polygon fill=\"none\" stroke=\"black\" points=\"1412,-425 1266,-425 1266,-342 1412,-342 1412,-425\"/>\n",
       "<text text-anchor=\"middle\" x=\"1339\" y=\"-409.8\" font-family=\"Helvetica,sans-Serif\" font-size=\"14.00\">education &lt;= 11.5</text>\n",
       "<text text-anchor=\"middle\" x=\"1339\" y=\"-394.8\" font-family=\"Helvetica,sans-Serif\" font-size=\"14.00\">gini = 0.489</text>\n",
       "<text text-anchor=\"middle\" x=\"1339\" y=\"-379.8\" font-family=\"Helvetica,sans-Serif\" font-size=\"14.00\">samples = 3779</text>\n",
       "<text text-anchor=\"middle\" x=\"1339\" y=\"-364.8\" font-family=\"Helvetica,sans-Serif\" font-size=\"14.00\">value = [2167, 1612]</text>\n",
       "<text text-anchor=\"middle\" x=\"1339\" y=\"-349.8\" font-family=\"Helvetica,sans-Serif\" font-size=\"14.00\">class = 0</text>\n",
       "</g>\n",
       "<!-- 0&#45;&gt;16 -->\n",
       "<g id=\"edge16\" class=\"edge\">\n",
       "<title>0-&gt;16</title>\n",
       "<path fill=\"none\" stroke=\"black\" d=\"M1164.63,-460.91C1194.53,-447.81 1227.46,-433.38 1256.57,-420.62\"/>\n",
       "<polygon fill=\"black\" stroke=\"black\" points=\"1258.13,-423.76 1265.88,-416.54 1255.32,-417.35 1258.13,-423.76\"/>\n",
       "<text text-anchor=\"middle\" x=\"1256.78\" y=\"-436.13\" font-family=\"Helvetica,sans-Serif\" font-size=\"14.00\">False</text>\n",
       "</g>\n",
       "<!-- 2 -->\n",
       "<g id=\"node3\" class=\"node\">\n",
       "<title>2</title>\n",
       "<polygon fill=\"none\" stroke=\"black\" points=\"488,-306 350,-306 350,-223 488,-223 488,-306\"/>\n",
       "<text text-anchor=\"middle\" x=\"419\" y=\"-290.8\" font-family=\"Helvetica,sans-Serif\" font-size=\"14.00\">education &lt;= 12.5</text>\n",
       "<text text-anchor=\"middle\" x=\"419\" y=\"-275.8\" font-family=\"Helvetica,sans-Serif\" font-size=\"14.00\">gini = 0.084</text>\n",
       "<text text-anchor=\"middle\" x=\"419\" y=\"-260.8\" font-family=\"Helvetica,sans-Serif\" font-size=\"14.00\">samples = 3531</text>\n",
       "<text text-anchor=\"middle\" x=\"419\" y=\"-245.8\" font-family=\"Helvetica,sans-Serif\" font-size=\"14.00\">value = [3376, 155]</text>\n",
       "<text text-anchor=\"middle\" x=\"419\" y=\"-230.8\" font-family=\"Helvetica,sans-Serif\" font-size=\"14.00\">class = 0</text>\n",
       "</g>\n",
       "<!-- 1&#45;&gt;2 -->\n",
       "<g id=\"edge2\" class=\"edge\">\n",
       "<title>1-&gt;2</title>\n",
       "<path fill=\"none\" stroke=\"black\" d=\"M750.61,-362.25C680.24,-341.72 571.51,-310 497.91,-288.52\"/>\n",
       "<polygon fill=\"black\" stroke=\"black\" points=\"498.79,-285.14 488.21,-285.69 496.83,-291.86 498.79,-285.14\"/>\n",
       "</g>\n",
       "<!-- 9 -->\n",
       "<g id=\"node10\" class=\"node\">\n",
       "<title>9</title>\n",
       "<polygon fill=\"none\" stroke=\"black\" points=\"885.5,-306 754.5,-306 754.5,-223 885.5,-223 885.5,-306\"/>\n",
       "<text text-anchor=\"middle\" x=\"820\" y=\"-290.8\" font-family=\"Helvetica,sans-Serif\" font-size=\"14.00\">education &lt;= 14.5</text>\n",
       "<text text-anchor=\"middle\" x=\"820\" y=\"-275.8\" font-family=\"Helvetica,sans-Serif\" font-size=\"14.00\">gini = 0.477</text>\n",
       "<text text-anchor=\"middle\" x=\"820\" y=\"-260.8\" font-family=\"Helvetica,sans-Serif\" font-size=\"14.00\">samples = 219</text>\n",
       "<text text-anchor=\"middle\" x=\"820\" y=\"-245.8\" font-family=\"Helvetica,sans-Serif\" font-size=\"14.00\">value = [133, 86]</text>\n",
       "<text text-anchor=\"middle\" x=\"820\" y=\"-230.8\" font-family=\"Helvetica,sans-Serif\" font-size=\"14.00\">class = 0</text>\n",
       "</g>\n",
       "<!-- 1&#45;&gt;9 -->\n",
       "<g id=\"edge9\" class=\"edge\">\n",
       "<title>1-&gt;9</title>\n",
       "<path fill=\"none\" stroke=\"black\" d=\"M820,-341.91C820,-333.65 820,-324.86 820,-316.3\"/>\n",
       "<polygon fill=\"black\" stroke=\"black\" points=\"823.5,-316.02 820,-306.02 816.5,-316.02 823.5,-316.02\"/>\n",
       "</g>\n",
       "<!-- 3 -->\n",
       "<g id=\"node4\" class=\"node\">\n",
       "<title>3</title>\n",
       "<polygon fill=\"none\" stroke=\"black\" points=\"270,-187 140,-187 140,-104 270,-104 270,-187\"/>\n",
       "<text text-anchor=\"middle\" x=\"205\" y=\"-171.8\" font-family=\"Helvetica,sans-Serif\" font-size=\"14.00\">age &lt;= 31.5</text>\n",
       "<text text-anchor=\"middle\" x=\"205\" y=\"-156.8\" font-family=\"Helvetica,sans-Serif\" font-size=\"14.00\">gini = 0.053</text>\n",
       "<text text-anchor=\"middle\" x=\"205\" y=\"-141.8\" font-family=\"Helvetica,sans-Serif\" font-size=\"14.00\">samples = 2947</text>\n",
       "<text text-anchor=\"middle\" x=\"205\" y=\"-126.8\" font-family=\"Helvetica,sans-Serif\" font-size=\"14.00\">value = [2867, 80]</text>\n",
       "<text text-anchor=\"middle\" x=\"205\" y=\"-111.8\" font-family=\"Helvetica,sans-Serif\" font-size=\"14.00\">class = 0</text>\n",
       "</g>\n",
       "<!-- 2&#45;&gt;3 -->\n",
       "<g id=\"edge3\" class=\"edge\">\n",
       "<title>2-&gt;3</title>\n",
       "<path fill=\"none\" stroke=\"black\" d=\"M349.82,-225.68C327.28,-213.36 302.19,-199.63 279.3,-187.12\"/>\n",
       "<polygon fill=\"black\" stroke=\"black\" points=\"280.76,-183.93 270.31,-182.21 277.4,-190.07 280.76,-183.93\"/>\n",
       "</g>\n",
       "<!-- 6 -->\n",
       "<g id=\"node7\" class=\"node\">\n",
       "<title>6</title>\n",
       "<polygon fill=\"none\" stroke=\"black\" points=\"480,-187 358,-187 358,-104 480,-104 480,-187\"/>\n",
       "<text text-anchor=\"middle\" x=\"419\" y=\"-171.8\" font-family=\"Helvetica,sans-Serif\" font-size=\"14.00\">age &lt;= 32.5</text>\n",
       "<text text-anchor=\"middle\" x=\"419\" y=\"-156.8\" font-family=\"Helvetica,sans-Serif\" font-size=\"14.00\">gini = 0.224</text>\n",
       "<text text-anchor=\"middle\" x=\"419\" y=\"-141.8\" font-family=\"Helvetica,sans-Serif\" font-size=\"14.00\">samples = 584</text>\n",
       "<text text-anchor=\"middle\" x=\"419\" y=\"-126.8\" font-family=\"Helvetica,sans-Serif\" font-size=\"14.00\">value = [509, 75]</text>\n",
       "<text text-anchor=\"middle\" x=\"419\" y=\"-111.8\" font-family=\"Helvetica,sans-Serif\" font-size=\"14.00\">class = 0</text>\n",
       "</g>\n",
       "<!-- 2&#45;&gt;6 -->\n",
       "<g id=\"edge6\" class=\"edge\">\n",
       "<title>2-&gt;6</title>\n",
       "<path fill=\"none\" stroke=\"black\" d=\"M419,-222.91C419,-214.65 419,-205.86 419,-197.3\"/>\n",
       "<polygon fill=\"black\" stroke=\"black\" points=\"422.5,-197.02 419,-187.02 415.5,-197.02 422.5,-197.02\"/>\n",
       "</g>\n",
       "<!-- 4 -->\n",
       "<g id=\"node5\" class=\"node\">\n",
       "<title>4</title>\n",
       "<polygon fill=\"none\" stroke=\"black\" points=\"122,-68 0,-68 0,0 122,0 122,-68\"/>\n",
       "<text text-anchor=\"middle\" x=\"61\" y=\"-52.8\" font-family=\"Helvetica,sans-Serif\" font-size=\"14.00\">gini = 0.011</text>\n",
       "<text text-anchor=\"middle\" x=\"61\" y=\"-37.8\" font-family=\"Helvetica,sans-Serif\" font-size=\"14.00\">samples = 1600</text>\n",
       "<text text-anchor=\"middle\" x=\"61\" y=\"-22.8\" font-family=\"Helvetica,sans-Serif\" font-size=\"14.00\">value = [1591, 9]</text>\n",
       "<text text-anchor=\"middle\" x=\"61\" y=\"-7.8\" font-family=\"Helvetica,sans-Serif\" font-size=\"14.00\">class = 0</text>\n",
       "</g>\n",
       "<!-- 3&#45;&gt;4 -->\n",
       "<g id=\"edge4\" class=\"edge\">\n",
       "<title>3-&gt;4</title>\n",
       "<path fill=\"none\" stroke=\"black\" d=\"M151.38,-103.73C138.79,-94.15 125.39,-83.96 112.87,-74.44\"/>\n",
       "<polygon fill=\"black\" stroke=\"black\" points=\"114.87,-71.57 104.79,-68.3 110.63,-77.14 114.87,-71.57\"/>\n",
       "</g>\n",
       "<!-- 5 -->\n",
       "<g id=\"node6\" class=\"node\">\n",
       "<title>5</title>\n",
       "<polygon fill=\"none\" stroke=\"black\" points=\"270,-68 140,-68 140,0 270,0 270,-68\"/>\n",
       "<text text-anchor=\"middle\" x=\"205\" y=\"-52.8\" font-family=\"Helvetica,sans-Serif\" font-size=\"14.00\">gini = 0.1</text>\n",
       "<text text-anchor=\"middle\" x=\"205\" y=\"-37.8\" font-family=\"Helvetica,sans-Serif\" font-size=\"14.00\">samples = 1347</text>\n",
       "<text text-anchor=\"middle\" x=\"205\" y=\"-22.8\" font-family=\"Helvetica,sans-Serif\" font-size=\"14.00\">value = [1276, 71]</text>\n",
       "<text text-anchor=\"middle\" x=\"205\" y=\"-7.8\" font-family=\"Helvetica,sans-Serif\" font-size=\"14.00\">class = 0</text>\n",
       "</g>\n",
       "<!-- 3&#45;&gt;5 -->\n",
       "<g id=\"edge5\" class=\"edge\">\n",
       "<title>3-&gt;5</title>\n",
       "<path fill=\"none\" stroke=\"black\" d=\"M205,-103.73C205,-95.52 205,-86.86 205,-78.56\"/>\n",
       "<polygon fill=\"black\" stroke=\"black\" points=\"208.5,-78.3 205,-68.3 201.5,-78.3 208.5,-78.3\"/>\n",
       "</g>\n",
       "<!-- 7 -->\n",
       "<g id=\"node8\" class=\"node\">\n",
       "<title>7</title>\n",
       "<polygon fill=\"none\" stroke=\"black\" points=\"410,-68 288,-68 288,0 410,0 410,-68\"/>\n",
       "<text text-anchor=\"middle\" x=\"349\" y=\"-52.8\" font-family=\"Helvetica,sans-Serif\" font-size=\"14.00\">gini = 0.08</text>\n",
       "<text text-anchor=\"middle\" x=\"349\" y=\"-37.8\" font-family=\"Helvetica,sans-Serif\" font-size=\"14.00\">samples = 312</text>\n",
       "<text text-anchor=\"middle\" x=\"349\" y=\"-22.8\" font-family=\"Helvetica,sans-Serif\" font-size=\"14.00\">value = [299, 13]</text>\n",
       "<text text-anchor=\"middle\" x=\"349\" y=\"-7.8\" font-family=\"Helvetica,sans-Serif\" font-size=\"14.00\">class = 0</text>\n",
       "</g>\n",
       "<!-- 6&#45;&gt;7 -->\n",
       "<g id=\"edge7\" class=\"edge\">\n",
       "<title>6-&gt;7</title>\n",
       "<path fill=\"none\" stroke=\"black\" d=\"M392.93,-103.73C387.34,-94.97 381.41,-85.7 375.79,-76.91\"/>\n",
       "<polygon fill=\"black\" stroke=\"black\" points=\"378.62,-74.84 370.29,-68.3 372.72,-78.61 378.62,-74.84\"/>\n",
       "</g>\n",
       "<!-- 8 -->\n",
       "<g id=\"node9\" class=\"node\">\n",
       "<title>8</title>\n",
       "<polygon fill=\"none\" stroke=\"black\" points=\"550,-68 428,-68 428,0 550,0 550,-68\"/>\n",
       "<text text-anchor=\"middle\" x=\"489\" y=\"-52.8\" font-family=\"Helvetica,sans-Serif\" font-size=\"14.00\">gini = 0.352</text>\n",
       "<text text-anchor=\"middle\" x=\"489\" y=\"-37.8\" font-family=\"Helvetica,sans-Serif\" font-size=\"14.00\">samples = 272</text>\n",
       "<text text-anchor=\"middle\" x=\"489\" y=\"-22.8\" font-family=\"Helvetica,sans-Serif\" font-size=\"14.00\">value = [210, 62]</text>\n",
       "<text text-anchor=\"middle\" x=\"489\" y=\"-7.8\" font-family=\"Helvetica,sans-Serif\" font-size=\"14.00\">class = 0</text>\n",
       "</g>\n",
       "<!-- 6&#45;&gt;8 -->\n",
       "<g id=\"edge8\" class=\"edge\">\n",
       "<title>6-&gt;8</title>\n",
       "<path fill=\"none\" stroke=\"black\" d=\"M445.07,-103.73C450.66,-94.97 456.59,-85.7 462.21,-76.91\"/>\n",
       "<polygon fill=\"black\" stroke=\"black\" points=\"465.28,-78.61 467.71,-68.3 459.38,-74.84 465.28,-78.61\"/>\n",
       "</g>\n",
       "<!-- 10 -->\n",
       "<g id=\"node11\" class=\"node\">\n",
       "<title>10</title>\n",
       "<polygon fill=\"none\" stroke=\"black\" points=\"813,-187 691,-187 691,-104 813,-104 813,-187\"/>\n",
       "<text text-anchor=\"middle\" x=\"752\" y=\"-171.8\" font-family=\"Helvetica,sans-Serif\" font-size=\"14.00\">age &lt;= 45.5</text>\n",
       "<text text-anchor=\"middle\" x=\"752\" y=\"-156.8\" font-family=\"Helvetica,sans-Serif\" font-size=\"14.00\">gini = 0.429</text>\n",
       "<text text-anchor=\"middle\" x=\"752\" y=\"-141.8\" font-family=\"Helvetica,sans-Serif\" font-size=\"14.00\">samples = 154</text>\n",
       "<text text-anchor=\"middle\" x=\"752\" y=\"-126.8\" font-family=\"Helvetica,sans-Serif\" font-size=\"14.00\">value = [106, 48]</text>\n",
       "<text text-anchor=\"middle\" x=\"752\" y=\"-111.8\" font-family=\"Helvetica,sans-Serif\" font-size=\"14.00\">class = 0</text>\n",
       "</g>\n",
       "<!-- 9&#45;&gt;10 -->\n",
       "<g id=\"edge10\" class=\"edge\">\n",
       "<title>9-&gt;10</title>\n",
       "<path fill=\"none\" stroke=\"black\" d=\"M796.41,-222.91C791.34,-214.2 785.94,-204.9 780.71,-195.89\"/>\n",
       "<polygon fill=\"black\" stroke=\"black\" points=\"783.6,-193.91 775.55,-187.02 777.55,-197.43 783.6,-193.91\"/>\n",
       "</g>\n",
       "<!-- 13 -->\n",
       "<g id=\"node14\" class=\"node\">\n",
       "<title>13</title>\n",
       "<polygon fill=\"none\" stroke=\"black\" points=\"944.5,-187 831.5,-187 831.5,-104 944.5,-104 944.5,-187\"/>\n",
       "<text text-anchor=\"middle\" x=\"888\" y=\"-171.8\" font-family=\"Helvetica,sans-Serif\" font-size=\"14.00\">age &lt;= 32.5</text>\n",
       "<text text-anchor=\"middle\" x=\"888\" y=\"-156.8\" font-family=\"Helvetica,sans-Serif\" font-size=\"14.00\">gini = 0.486</text>\n",
       "<text text-anchor=\"middle\" x=\"888\" y=\"-141.8\" font-family=\"Helvetica,sans-Serif\" font-size=\"14.00\">samples = 65</text>\n",
       "<text text-anchor=\"middle\" x=\"888\" y=\"-126.8\" font-family=\"Helvetica,sans-Serif\" font-size=\"14.00\">value = [27, 38]</text>\n",
       "<text text-anchor=\"middle\" x=\"888\" y=\"-111.8\" font-family=\"Helvetica,sans-Serif\" font-size=\"14.00\">class = 1</text>\n",
       "</g>\n",
       "<!-- 9&#45;&gt;13 -->\n",
       "<g id=\"edge13\" class=\"edge\">\n",
       "<title>9-&gt;13</title>\n",
       "<path fill=\"none\" stroke=\"black\" d=\"M843.59,-222.91C848.66,-214.2 854.06,-204.9 859.29,-195.89\"/>\n",
       "<polygon fill=\"black\" stroke=\"black\" points=\"862.45,-197.43 864.45,-187.02 856.4,-193.91 862.45,-197.43\"/>\n",
       "</g>\n",
       "<!-- 11 -->\n",
       "<g id=\"node12\" class=\"node\">\n",
       "<title>11</title>\n",
       "<polygon fill=\"none\" stroke=\"black\" points=\"681.5,-68 568.5,-68 568.5,0 681.5,0 681.5,-68\"/>\n",
       "<text text-anchor=\"middle\" x=\"625\" y=\"-52.8\" font-family=\"Helvetica,sans-Serif\" font-size=\"14.00\">gini = 0.343</text>\n",
       "<text text-anchor=\"middle\" x=\"625\" y=\"-37.8\" font-family=\"Helvetica,sans-Serif\" font-size=\"14.00\">samples = 100</text>\n",
       "<text text-anchor=\"middle\" x=\"625\" y=\"-22.8\" font-family=\"Helvetica,sans-Serif\" font-size=\"14.00\">value = [78, 22]</text>\n",
       "<text text-anchor=\"middle\" x=\"625\" y=\"-7.8\" font-family=\"Helvetica,sans-Serif\" font-size=\"14.00\">class = 0</text>\n",
       "</g>\n",
       "<!-- 10&#45;&gt;11 -->\n",
       "<g id=\"edge11\" class=\"edge\">\n",
       "<title>10-&gt;11</title>\n",
       "<path fill=\"none\" stroke=\"black\" d=\"M704.71,-103.73C693.81,-94.33 682.24,-84.35 671.38,-74.99\"/>\n",
       "<polygon fill=\"black\" stroke=\"black\" points=\"673.48,-72.18 663.62,-68.3 668.91,-77.48 673.48,-72.18\"/>\n",
       "</g>\n",
       "<!-- 12 -->\n",
       "<g id=\"node13\" class=\"node\">\n",
       "<title>12</title>\n",
       "<polygon fill=\"none\" stroke=\"black\" points=\"812.5,-68 699.5,-68 699.5,0 812.5,0 812.5,-68\"/>\n",
       "<text text-anchor=\"middle\" x=\"756\" y=\"-52.8\" font-family=\"Helvetica,sans-Serif\" font-size=\"14.00\">gini = 0.499</text>\n",
       "<text text-anchor=\"middle\" x=\"756\" y=\"-37.8\" font-family=\"Helvetica,sans-Serif\" font-size=\"14.00\">samples = 54</text>\n",
       "<text text-anchor=\"middle\" x=\"756\" y=\"-22.8\" font-family=\"Helvetica,sans-Serif\" font-size=\"14.00\">value = [28, 26]</text>\n",
       "<text text-anchor=\"middle\" x=\"756\" y=\"-7.8\" font-family=\"Helvetica,sans-Serif\" font-size=\"14.00\">class = 0</text>\n",
       "</g>\n",
       "<!-- 10&#45;&gt;12 -->\n",
       "<g id=\"edge12\" class=\"edge\">\n",
       "<title>10-&gt;12</title>\n",
       "<path fill=\"none\" stroke=\"black\" d=\"M753.49,-103.73C753.79,-95.52 754.11,-86.86 754.41,-78.56\"/>\n",
       "<polygon fill=\"black\" stroke=\"black\" points=\"757.92,-78.42 754.78,-68.3 750.92,-78.17 757.92,-78.42\"/>\n",
       "</g>\n",
       "<!-- 14 -->\n",
       "<g id=\"node15\" class=\"node\">\n",
       "<title>14</title>\n",
       "<polygon fill=\"none\" stroke=\"black\" points=\"935.5,-68 830.5,-68 830.5,0 935.5,0 935.5,-68\"/>\n",
       "<text text-anchor=\"middle\" x=\"883\" y=\"-52.8\" font-family=\"Helvetica,sans-Serif\" font-size=\"14.00\">gini = 0.278</text>\n",
       "<text text-anchor=\"middle\" x=\"883\" y=\"-37.8\" font-family=\"Helvetica,sans-Serif\" font-size=\"14.00\">samples = 18</text>\n",
       "<text text-anchor=\"middle\" x=\"883\" y=\"-22.8\" font-family=\"Helvetica,sans-Serif\" font-size=\"14.00\">value = [15, 3]</text>\n",
       "<text text-anchor=\"middle\" x=\"883\" y=\"-7.8\" font-family=\"Helvetica,sans-Serif\" font-size=\"14.00\">class = 0</text>\n",
       "</g>\n",
       "<!-- 13&#45;&gt;14 -->\n",
       "<g id=\"edge14\" class=\"edge\">\n",
       "<title>13-&gt;14</title>\n",
       "<path fill=\"none\" stroke=\"black\" d=\"M886.14,-103.73C885.76,-95.52 885.37,-86.86 884.99,-78.56\"/>\n",
       "<polygon fill=\"black\" stroke=\"black\" points=\"888.47,-78.13 884.52,-68.3 881.48,-78.45 888.47,-78.13\"/>\n",
       "</g>\n",
       "<!-- 15 -->\n",
       "<g id=\"node16\" class=\"node\">\n",
       "<title>15</title>\n",
       "<polygon fill=\"none\" stroke=\"black\" points=\"1066.5,-68 953.5,-68 953.5,0 1066.5,0 1066.5,-68\"/>\n",
       "<text text-anchor=\"middle\" x=\"1010\" y=\"-52.8\" font-family=\"Helvetica,sans-Serif\" font-size=\"14.00\">gini = 0.38</text>\n",
       "<text text-anchor=\"middle\" x=\"1010\" y=\"-37.8\" font-family=\"Helvetica,sans-Serif\" font-size=\"14.00\">samples = 47</text>\n",
       "<text text-anchor=\"middle\" x=\"1010\" y=\"-22.8\" font-family=\"Helvetica,sans-Serif\" font-size=\"14.00\">value = [12, 35]</text>\n",
       "<text text-anchor=\"middle\" x=\"1010\" y=\"-7.8\" font-family=\"Helvetica,sans-Serif\" font-size=\"14.00\">class = 1</text>\n",
       "</g>\n",
       "<!-- 13&#45;&gt;15 -->\n",
       "<g id=\"edge15\" class=\"edge\">\n",
       "<title>13-&gt;15</title>\n",
       "<path fill=\"none\" stroke=\"black\" d=\"M933.43,-103.73C943.9,-94.33 955.02,-84.35 965.45,-74.99\"/>\n",
       "<polygon fill=\"black\" stroke=\"black\" points=\"967.79,-77.58 972.9,-68.3 963.12,-72.37 967.79,-77.58\"/>\n",
       "</g>\n",
       "<!-- 17 -->\n",
       "<g id=\"node18\" class=\"node\">\n",
       "<title>17</title>\n",
       "<polygon fill=\"none\" stroke=\"black\" points=\"1408,-306 1270,-306 1270,-223 1408,-223 1408,-306\"/>\n",
       "<text text-anchor=\"middle\" x=\"1339\" y=\"-290.8\" font-family=\"Helvetica,sans-Serif\" font-size=\"14.00\">education &lt;= 8.5</text>\n",
       "<text text-anchor=\"middle\" x=\"1339\" y=\"-275.8\" font-family=\"Helvetica,sans-Serif\" font-size=\"14.00\">gini = 0.425</text>\n",
       "<text text-anchor=\"middle\" x=\"1339\" y=\"-260.8\" font-family=\"Helvetica,sans-Serif\" font-size=\"14.00\">samples = 2558</text>\n",
       "<text text-anchor=\"middle\" x=\"1339\" y=\"-245.8\" font-family=\"Helvetica,sans-Serif\" font-size=\"14.00\">value = [1774, 784]</text>\n",
       "<text text-anchor=\"middle\" x=\"1339\" y=\"-230.8\" font-family=\"Helvetica,sans-Serif\" font-size=\"14.00\">class = 0</text>\n",
       "</g>\n",
       "<!-- 16&#45;&gt;17 -->\n",
       "<g id=\"edge17\" class=\"edge\">\n",
       "<title>16-&gt;17</title>\n",
       "<path fill=\"none\" stroke=\"black\" d=\"M1339,-341.91C1339,-333.65 1339,-324.86 1339,-316.3\"/>\n",
       "<polygon fill=\"black\" stroke=\"black\" points=\"1342.5,-316.02 1339,-306.02 1335.5,-316.02 1342.5,-316.02\"/>\n",
       "</g>\n",
       "<!-- 24 -->\n",
       "<g id=\"node25\" class=\"node\">\n",
       "<title>24</title>\n",
       "<polygon fill=\"none\" stroke=\"black\" points=\"1853.5,-306 1686.5,-306 1686.5,-223 1853.5,-223 1853.5,-306\"/>\n",
       "<text text-anchor=\"middle\" x=\"1770\" y=\"-290.8\" font-family=\"Helvetica,sans-Serif\" font-size=\"14.00\">hours-per-week &lt;= 41.0</text>\n",
       "<text text-anchor=\"middle\" x=\"1770\" y=\"-275.8\" font-family=\"Helvetica,sans-Serif\" font-size=\"14.00\">gini = 0.437</text>\n",
       "<text text-anchor=\"middle\" x=\"1770\" y=\"-260.8\" font-family=\"Helvetica,sans-Serif\" font-size=\"14.00\">samples = 1221</text>\n",
       "<text text-anchor=\"middle\" x=\"1770\" y=\"-245.8\" font-family=\"Helvetica,sans-Serif\" font-size=\"14.00\">value = [393, 828]</text>\n",
       "<text text-anchor=\"middle\" x=\"1770\" y=\"-230.8\" font-family=\"Helvetica,sans-Serif\" font-size=\"14.00\">class = 1</text>\n",
       "</g>\n",
       "<!-- 16&#45;&gt;24 -->\n",
       "<g id=\"edge24\" class=\"edge\">\n",
       "<title>16-&gt;24</title>\n",
       "<path fill=\"none\" stroke=\"black\" d=\"M1412.11,-362.65C1484.89,-342.9 1596.89,-312.49 1676.19,-290.97\"/>\n",
       "<polygon fill=\"black\" stroke=\"black\" points=\"1677.45,-294.25 1686.18,-288.25 1675.61,-287.5 1677.45,-294.25\"/>\n",
       "</g>\n",
       "<!-- 18 -->\n",
       "<g id=\"node19\" class=\"node\">\n",
       "<title>18</title>\n",
       "<polygon fill=\"none\" stroke=\"black\" points=\"1326,-187 1204,-187 1204,-104 1326,-104 1326,-187\"/>\n",
       "<text text-anchor=\"middle\" x=\"1265\" y=\"-171.8\" font-family=\"Helvetica,sans-Serif\" font-size=\"14.00\">age &lt;= 33.5</text>\n",
       "<text text-anchor=\"middle\" x=\"1265\" y=\"-156.8\" font-family=\"Helvetica,sans-Serif\" font-size=\"14.00\">gini = 0.198</text>\n",
       "<text text-anchor=\"middle\" x=\"1265\" y=\"-141.8\" font-family=\"Helvetica,sans-Serif\" font-size=\"14.00\">samples = 440</text>\n",
       "<text text-anchor=\"middle\" x=\"1265\" y=\"-126.8\" font-family=\"Helvetica,sans-Serif\" font-size=\"14.00\">value = [391, 49]</text>\n",
       "<text text-anchor=\"middle\" x=\"1265\" y=\"-111.8\" font-family=\"Helvetica,sans-Serif\" font-size=\"14.00\">class = 0</text>\n",
       "</g>\n",
       "<!-- 17&#45;&gt;18 -->\n",
       "<g id=\"edge18\" class=\"edge\">\n",
       "<title>17-&gt;18</title>\n",
       "<path fill=\"none\" stroke=\"black\" d=\"M1313.33,-222.91C1307.76,-214.1 1301.81,-204.7 1296.06,-195.61\"/>\n",
       "<polygon fill=\"black\" stroke=\"black\" points=\"1298.93,-193.6 1290.63,-187.02 1293.02,-197.34 1298.93,-193.6\"/>\n",
       "</g>\n",
       "<!-- 21 -->\n",
       "<g id=\"node22\" class=\"node\">\n",
       "<title>21</title>\n",
       "<polygon fill=\"none\" stroke=\"black\" points=\"1482,-187 1344,-187 1344,-104 1482,-104 1482,-187\"/>\n",
       "<text text-anchor=\"middle\" x=\"1413\" y=\"-171.8\" font-family=\"Helvetica,sans-Serif\" font-size=\"14.00\">age &lt;= 31.5</text>\n",
       "<text text-anchor=\"middle\" x=\"1413\" y=\"-156.8\" font-family=\"Helvetica,sans-Serif\" font-size=\"14.00\">gini = 0.453</text>\n",
       "<text text-anchor=\"middle\" x=\"1413\" y=\"-141.8\" font-family=\"Helvetica,sans-Serif\" font-size=\"14.00\">samples = 2118</text>\n",
       "<text text-anchor=\"middle\" x=\"1413\" y=\"-126.8\" font-family=\"Helvetica,sans-Serif\" font-size=\"14.00\">value = [1383, 735]</text>\n",
       "<text text-anchor=\"middle\" x=\"1413\" y=\"-111.8\" font-family=\"Helvetica,sans-Serif\" font-size=\"14.00\">class = 0</text>\n",
       "</g>\n",
       "<!-- 17&#45;&gt;21 -->\n",
       "<g id=\"edge21\" class=\"edge\">\n",
       "<title>17-&gt;21</title>\n",
       "<path fill=\"none\" stroke=\"black\" d=\"M1364.67,-222.91C1370.24,-214.1 1376.19,-204.7 1381.94,-195.61\"/>\n",
       "<polygon fill=\"black\" stroke=\"black\" points=\"1384.98,-197.34 1387.37,-187.02 1379.07,-193.6 1384.98,-197.34\"/>\n",
       "</g>\n",
       "<!-- 19 -->\n",
       "<g id=\"node20\" class=\"node\">\n",
       "<title>19</title>\n",
       "<polygon fill=\"none\" stroke=\"black\" points=\"1189.5,-68 1084.5,-68 1084.5,0 1189.5,0 1189.5,-68\"/>\n",
       "<text text-anchor=\"middle\" x=\"1137\" y=\"-52.8\" font-family=\"Helvetica,sans-Serif\" font-size=\"14.00\">gini = 0.041</text>\n",
       "<text text-anchor=\"middle\" x=\"1137\" y=\"-37.8\" font-family=\"Helvetica,sans-Serif\" font-size=\"14.00\">samples = 96</text>\n",
       "<text text-anchor=\"middle\" x=\"1137\" y=\"-22.8\" font-family=\"Helvetica,sans-Serif\" font-size=\"14.00\">value = [94, 2]</text>\n",
       "<text text-anchor=\"middle\" x=\"1137\" y=\"-7.8\" font-family=\"Helvetica,sans-Serif\" font-size=\"14.00\">class = 0</text>\n",
       "</g>\n",
       "<!-- 18&#45;&gt;19 -->\n",
       "<g id=\"edge19\" class=\"edge\">\n",
       "<title>18-&gt;19</title>\n",
       "<path fill=\"none\" stroke=\"black\" d=\"M1217.34,-103.73C1206.36,-94.33 1194.69,-84.35 1183.74,-74.99\"/>\n",
       "<polygon fill=\"black\" stroke=\"black\" points=\"1185.8,-72.14 1175.93,-68.3 1181.25,-77.46 1185.8,-72.14\"/>\n",
       "</g>\n",
       "<!-- 20 -->\n",
       "<g id=\"node21\" class=\"node\">\n",
       "<title>20</title>\n",
       "<polygon fill=\"none\" stroke=\"black\" points=\"1330,-68 1208,-68 1208,0 1330,0 1330,-68\"/>\n",
       "<text text-anchor=\"middle\" x=\"1269\" y=\"-52.8\" font-family=\"Helvetica,sans-Serif\" font-size=\"14.00\">gini = 0.236</text>\n",
       "<text text-anchor=\"middle\" x=\"1269\" y=\"-37.8\" font-family=\"Helvetica,sans-Serif\" font-size=\"14.00\">samples = 344</text>\n",
       "<text text-anchor=\"middle\" x=\"1269\" y=\"-22.8\" font-family=\"Helvetica,sans-Serif\" font-size=\"14.00\">value = [297, 47]</text>\n",
       "<text text-anchor=\"middle\" x=\"1269\" y=\"-7.8\" font-family=\"Helvetica,sans-Serif\" font-size=\"14.00\">class = 0</text>\n",
       "</g>\n",
       "<!-- 18&#45;&gt;20 -->\n",
       "<g id=\"edge20\" class=\"edge\">\n",
       "<title>18-&gt;20</title>\n",
       "<path fill=\"none\" stroke=\"black\" d=\"M1266.49,-103.73C1266.79,-95.52 1267.11,-86.86 1267.41,-78.56\"/>\n",
       "<polygon fill=\"black\" stroke=\"black\" points=\"1270.92,-78.42 1267.78,-68.3 1263.92,-78.17 1270.92,-78.42\"/>\n",
       "</g>\n",
       "<!-- 22 -->\n",
       "<g id=\"node23\" class=\"node\">\n",
       "<title>22</title>\n",
       "<polygon fill=\"none\" stroke=\"black\" points=\"1470,-68 1348,-68 1348,0 1470,0 1470,-68\"/>\n",
       "<text text-anchor=\"middle\" x=\"1409\" y=\"-52.8\" font-family=\"Helvetica,sans-Serif\" font-size=\"14.00\">gini = 0.291</text>\n",
       "<text text-anchor=\"middle\" x=\"1409\" y=\"-37.8\" font-family=\"Helvetica,sans-Serif\" font-size=\"14.00\">samples = 401</text>\n",
       "<text text-anchor=\"middle\" x=\"1409\" y=\"-22.8\" font-family=\"Helvetica,sans-Serif\" font-size=\"14.00\">value = [330, 71]</text>\n",
       "<text text-anchor=\"middle\" x=\"1409\" y=\"-7.8\" font-family=\"Helvetica,sans-Serif\" font-size=\"14.00\">class = 0</text>\n",
       "</g>\n",
       "<!-- 21&#45;&gt;22 -->\n",
       "<g id=\"edge22\" class=\"edge\">\n",
       "<title>21-&gt;22</title>\n",
       "<path fill=\"none\" stroke=\"black\" d=\"M1411.51,-103.73C1411.21,-95.52 1410.89,-86.86 1410.59,-78.56\"/>\n",
       "<polygon fill=\"black\" stroke=\"black\" points=\"1414.08,-78.17 1410.22,-68.3 1407.08,-78.42 1414.08,-78.17\"/>\n",
       "</g>\n",
       "<!-- 23 -->\n",
       "<g id=\"node24\" class=\"node\">\n",
       "<title>23</title>\n",
       "<polygon fill=\"none\" stroke=\"black\" points=\"1626,-68 1488,-68 1488,0 1626,0 1626,-68\"/>\n",
       "<text text-anchor=\"middle\" x=\"1557\" y=\"-52.8\" font-family=\"Helvetica,sans-Serif\" font-size=\"14.00\">gini = 0.474</text>\n",
       "<text text-anchor=\"middle\" x=\"1557\" y=\"-37.8\" font-family=\"Helvetica,sans-Serif\" font-size=\"14.00\">samples = 1717</text>\n",
       "<text text-anchor=\"middle\" x=\"1557\" y=\"-22.8\" font-family=\"Helvetica,sans-Serif\" font-size=\"14.00\">value = [1053, 664]</text>\n",
       "<text text-anchor=\"middle\" x=\"1557\" y=\"-7.8\" font-family=\"Helvetica,sans-Serif\" font-size=\"14.00\">class = 0</text>\n",
       "</g>\n",
       "<!-- 21&#45;&gt;23 -->\n",
       "<g id=\"edge23\" class=\"edge\">\n",
       "<title>21-&gt;23</title>\n",
       "<path fill=\"none\" stroke=\"black\" d=\"M1466.62,-103.73C1479.21,-94.15 1492.61,-83.96 1505.13,-74.44\"/>\n",
       "<polygon fill=\"black\" stroke=\"black\" points=\"1507.37,-77.14 1513.21,-68.3 1503.13,-71.57 1507.37,-77.14\"/>\n",
       "</g>\n",
       "<!-- 25 -->\n",
       "<g id=\"node26\" class=\"node\">\n",
       "<title>25</title>\n",
       "<polygon fill=\"none\" stroke=\"black\" points=\"1835,-187 1705,-187 1705,-104 1835,-104 1835,-187\"/>\n",
       "<text text-anchor=\"middle\" x=\"1770\" y=\"-171.8\" font-family=\"Helvetica,sans-Serif\" font-size=\"14.00\">age &lt;= 28.5</text>\n",
       "<text text-anchor=\"middle\" x=\"1770\" y=\"-156.8\" font-family=\"Helvetica,sans-Serif\" font-size=\"14.00\">gini = 0.482</text>\n",
       "<text text-anchor=\"middle\" x=\"1770\" y=\"-141.8\" font-family=\"Helvetica,sans-Serif\" font-size=\"14.00\">samples = 656</text>\n",
       "<text text-anchor=\"middle\" x=\"1770\" y=\"-126.8\" font-family=\"Helvetica,sans-Serif\" font-size=\"14.00\">value = [265, 391]</text>\n",
       "<text text-anchor=\"middle\" x=\"1770\" y=\"-111.8\" font-family=\"Helvetica,sans-Serif\" font-size=\"14.00\">class = 1</text>\n",
       "</g>\n",
       "<!-- 24&#45;&gt;25 -->\n",
       "<g id=\"edge25\" class=\"edge\">\n",
       "<title>24-&gt;25</title>\n",
       "<path fill=\"none\" stroke=\"black\" d=\"M1770,-222.91C1770,-214.65 1770,-205.86 1770,-197.3\"/>\n",
       "<polygon fill=\"black\" stroke=\"black\" points=\"1773.5,-197.02 1770,-187.02 1766.5,-197.02 1773.5,-197.02\"/>\n",
       "</g>\n",
       "<!-- 28 -->\n",
       "<g id=\"node29\" class=\"node\">\n",
       "<title>28</title>\n",
       "<polygon fill=\"none\" stroke=\"black\" points=\"2054.5,-187 1923.5,-187 1923.5,-104 2054.5,-104 2054.5,-187\"/>\n",
       "<text text-anchor=\"middle\" x=\"1989\" y=\"-171.8\" font-family=\"Helvetica,sans-Serif\" font-size=\"14.00\">education &lt;= 14.5</text>\n",
       "<text text-anchor=\"middle\" x=\"1989\" y=\"-156.8\" font-family=\"Helvetica,sans-Serif\" font-size=\"14.00\">gini = 0.35</text>\n",
       "<text text-anchor=\"middle\" x=\"1989\" y=\"-141.8\" font-family=\"Helvetica,sans-Serif\" font-size=\"14.00\">samples = 565</text>\n",
       "<text text-anchor=\"middle\" x=\"1989\" y=\"-126.8\" font-family=\"Helvetica,sans-Serif\" font-size=\"14.00\">value = [128, 437]</text>\n",
       "<text text-anchor=\"middle\" x=\"1989\" y=\"-111.8\" font-family=\"Helvetica,sans-Serif\" font-size=\"14.00\">class = 1</text>\n",
       "</g>\n",
       "<!-- 24&#45;&gt;28 -->\n",
       "<g id=\"edge28\" class=\"edge\">\n",
       "<title>24-&gt;28</title>\n",
       "<path fill=\"none\" stroke=\"black\" d=\"M1845.98,-222.91C1868.13,-211.07 1892.31,-198.16 1914.37,-186.37\"/>\n",
       "<polygon fill=\"black\" stroke=\"black\" points=\"1916.19,-189.37 1923.36,-181.57 1912.89,-183.19 1916.19,-189.37\"/>\n",
       "</g>\n",
       "<!-- 26 -->\n",
       "<g id=\"node27\" class=\"node\">\n",
       "<title>26</title>\n",
       "<polygon fill=\"none\" stroke=\"black\" points=\"1757.5,-68 1644.5,-68 1644.5,0 1757.5,0 1757.5,-68\"/>\n",
       "<text text-anchor=\"middle\" x=\"1701\" y=\"-52.8\" font-family=\"Helvetica,sans-Serif\" font-size=\"14.00\">gini = 0.395</text>\n",
       "<text text-anchor=\"middle\" x=\"1701\" y=\"-37.8\" font-family=\"Helvetica,sans-Serif\" font-size=\"14.00\">samples = 48</text>\n",
       "<text text-anchor=\"middle\" x=\"1701\" y=\"-22.8\" font-family=\"Helvetica,sans-Serif\" font-size=\"14.00\">value = [35, 13]</text>\n",
       "<text text-anchor=\"middle\" x=\"1701\" y=\"-7.8\" font-family=\"Helvetica,sans-Serif\" font-size=\"14.00\">class = 0</text>\n",
       "</g>\n",
       "<!-- 25&#45;&gt;26 -->\n",
       "<g id=\"edge26\" class=\"edge\">\n",
       "<title>25-&gt;26</title>\n",
       "<path fill=\"none\" stroke=\"black\" d=\"M1744.31,-103.73C1738.79,-94.97 1732.95,-85.7 1727.41,-76.91\"/>\n",
       "<polygon fill=\"black\" stroke=\"black\" points=\"1730.28,-74.89 1721.98,-68.3 1724.35,-78.63 1730.28,-74.89\"/>\n",
       "</g>\n",
       "<!-- 27 -->\n",
       "<g id=\"node28\" class=\"node\">\n",
       "<title>27</title>\n",
       "<polygon fill=\"none\" stroke=\"black\" points=\"1906,-68 1776,-68 1776,0 1906,0 1906,-68\"/>\n",
       "<text text-anchor=\"middle\" x=\"1841\" y=\"-52.8\" font-family=\"Helvetica,sans-Serif\" font-size=\"14.00\">gini = 0.47</text>\n",
       "<text text-anchor=\"middle\" x=\"1841\" y=\"-37.8\" font-family=\"Helvetica,sans-Serif\" font-size=\"14.00\">samples = 608</text>\n",
       "<text text-anchor=\"middle\" x=\"1841\" y=\"-22.8\" font-family=\"Helvetica,sans-Serif\" font-size=\"14.00\">value = [230, 378]</text>\n",
       "<text text-anchor=\"middle\" x=\"1841\" y=\"-7.8\" font-family=\"Helvetica,sans-Serif\" font-size=\"14.00\">class = 1</text>\n",
       "</g>\n",
       "<!-- 25&#45;&gt;27 -->\n",
       "<g id=\"edge27\" class=\"edge\">\n",
       "<title>25-&gt;27</title>\n",
       "<path fill=\"none\" stroke=\"black\" d=\"M1796.44,-103.73C1802.12,-94.97 1808.12,-85.7 1813.83,-76.91\"/>\n",
       "<polygon fill=\"black\" stroke=\"black\" points=\"1816.9,-78.59 1819.41,-68.3 1811.03,-74.79 1816.9,-78.59\"/>\n",
       "</g>\n",
       "<!-- 29 -->\n",
       "<g id=\"node30\" class=\"node\">\n",
       "<title>29</title>\n",
       "<polygon fill=\"none\" stroke=\"black\" points=\"2054,-68 1924,-68 1924,0 2054,0 2054,-68\"/>\n",
       "<text text-anchor=\"middle\" x=\"1989\" y=\"-52.8\" font-family=\"Helvetica,sans-Serif\" font-size=\"14.00\">gini = 0.381</text>\n",
       "<text text-anchor=\"middle\" x=\"1989\" y=\"-37.8\" font-family=\"Helvetica,sans-Serif\" font-size=\"14.00\">samples = 469</text>\n",
       "<text text-anchor=\"middle\" x=\"1989\" y=\"-22.8\" font-family=\"Helvetica,sans-Serif\" font-size=\"14.00\">value = [120, 349]</text>\n",
       "<text text-anchor=\"middle\" x=\"1989\" y=\"-7.8\" font-family=\"Helvetica,sans-Serif\" font-size=\"14.00\">class = 1</text>\n",
       "</g>\n",
       "<!-- 28&#45;&gt;29 -->\n",
       "<g id=\"edge29\" class=\"edge\">\n",
       "<title>28-&gt;29</title>\n",
       "<path fill=\"none\" stroke=\"black\" d=\"M1989,-103.73C1989,-95.52 1989,-86.86 1989,-78.56\"/>\n",
       "<polygon fill=\"black\" stroke=\"black\" points=\"1992.5,-78.3 1989,-68.3 1985.5,-78.3 1992.5,-78.3\"/>\n",
       "</g>\n",
       "<!-- 30 -->\n",
       "<g id=\"node31\" class=\"node\">\n",
       "<title>30</title>\n",
       "<polygon fill=\"none\" stroke=\"black\" points=\"2177.5,-68 2072.5,-68 2072.5,0 2177.5,0 2177.5,-68\"/>\n",
       "<text text-anchor=\"middle\" x=\"2125\" y=\"-52.8\" font-family=\"Helvetica,sans-Serif\" font-size=\"14.00\">gini = 0.153</text>\n",
       "<text text-anchor=\"middle\" x=\"2125\" y=\"-37.8\" font-family=\"Helvetica,sans-Serif\" font-size=\"14.00\">samples = 96</text>\n",
       "<text text-anchor=\"middle\" x=\"2125\" y=\"-22.8\" font-family=\"Helvetica,sans-Serif\" font-size=\"14.00\">value = [8, 88]</text>\n",
       "<text text-anchor=\"middle\" x=\"2125\" y=\"-7.8\" font-family=\"Helvetica,sans-Serif\" font-size=\"14.00\">class = 1</text>\n",
       "</g>\n",
       "<!-- 28&#45;&gt;30 -->\n",
       "<g id=\"edge30\" class=\"edge\">\n",
       "<title>28-&gt;30</title>\n",
       "<path fill=\"none\" stroke=\"black\" d=\"M2039.64,-103.73C2051.42,-94.24 2063.95,-84.16 2075.67,-74.72\"/>\n",
       "<polygon fill=\"black\" stroke=\"black\" points=\"2078.05,-77.3 2083.64,-68.3 2073.66,-71.84 2078.05,-77.3\"/>\n",
       "</g>\n",
       "</g>\n",
       "</svg>"
      ],
      "text/plain": [
       "<IPython.core.display.SVG object>"
      ]
     },
     "metadata": {},
     "output_type": "display_data"
    }
   ],
   "source": [
    "display(SVG(graph.pipe(format = 'svg')))"
   ]
  },
  {
   "cell_type": "markdown",
   "id": "846c61e0",
   "metadata": {},
   "source": [
    "d. [10 pts] Use scikit-learn to build classifiers using Naive Bayes (Gaussian) and linear discriminant analysis (LDA).  For each of these perform 10-fold cross-validation on the 80% training data (using cross-validation module in scikit-learn) and report the overall average accuracy. Compare this cross-validation accuracy to the model accuracy on the training data as a whole. Finally, run your model on the set-aside 20% test data."
   ]
  },
  {
   "cell_type": "markdown",
   "id": "9ca26369",
   "metadata": {},
   "source": [
    "Naive Bayes (Gaussian)"
   ]
  },
  {
   "cell_type": "code",
   "execution_count": 89,
   "id": "94afdf35",
   "metadata": {},
   "outputs": [
    {
     "name": "stdout",
     "output_type": "stream",
     "text": [
      "[0 1 0 ... 0 0 1]\n"
     ]
    }
   ],
   "source": [
    "#Importing the Packages\n",
    "from sklearn import neighbors, tree, naive_bayes\n",
    "from sklearn.model_selection import cross_val_score\n",
    "nb_clf = naive_bayes.GaussianNB()\n",
    "nb_clf = nb_clf.fit(adult_tr, adult_tar_tr)\n",
    "nb_preds_te = nb_clf.predict(adult_te)\n",
    "print (nb_preds_te)"
   ]
  },
  {
   "cell_type": "code",
   "execution_count": 90,
   "id": "3521b45f",
   "metadata": {},
   "outputs": [
    {
     "name": "stdout",
     "output_type": "stream",
     "text": [
      "0.7218754150617612\n"
     ]
    }
   ],
   "source": [
    "print (nb_clf.score(adult_tr, adult_tar_tr))"
   ]
  },
  {
   "cell_type": "code",
   "execution_count": 91,
   "id": "0e4ed514",
   "metadata": {},
   "outputs": [
    {
     "name": "stdout",
     "output_type": "stream",
     "text": [
      "0.7110993096123208\n"
     ]
    }
   ],
   "source": [
    "print (nb_clf.score(adult_te, adult_tar_te))"
   ]
  },
  {
   "cell_type": "code",
   "execution_count": 92,
   "id": "6cdace03",
   "metadata": {},
   "outputs": [
    {
     "name": "stdout",
     "output_type": "stream",
     "text": [
      "Score on Training:  0.7218754150617612\n",
      "Score on Test:  0.7110993096123208\n"
     ]
    }
   ],
   "source": [
    "nb_clf = naive_bayes.GaussianNB()\n",
    "nb_clf = nb_clf.fit(adult_tr, adult_tar_tr)\n",
    "print (\"Score on Training: \", nb_clf.score(adult_tr, adult_tar_tr))\n",
    "print (\"Score on Test: \", nb_clf.score(adult_te, adult_tar_te))"
   ]
  },
  {
   "cell_type": "code",
   "execution_count": 93,
   "id": "b6bb8335",
   "metadata": {},
   "outputs": [
    {
     "name": "stdout",
     "output_type": "stream",
     "text": [
      "[0.72 0.71 0.74 0.71 0.72]\n"
     ]
    }
   ],
   "source": [
    "cross_val_scores = cross_val_score(nb_clf, adult_tr, adult_tar_tr, cv=5)\n",
    "print(cross_val_scores)"
   ]
  },
  {
   "cell_type": "code",
   "execution_count": 94,
   "id": "11f32206",
   "metadata": {},
   "outputs": [
    {
     "name": "stdout",
     "output_type": "stream",
     "text": [
      "Overall Accuracy: 0.72 (+/- 0.02)\n"
     ]
    }
   ],
   "source": [
    "print(\"Overall Accuracy: %0.2f (+/- %0.2f)\" % (cross_val_scores.mean(), cross_val_scores.std() * 2))"
   ]
  },
  {
   "cell_type": "markdown",
   "id": "e68cd85e",
   "metadata": {},
   "source": [
    "Linear Discriminant Analysis (LDA)"
   ]
  },
  {
   "cell_type": "code",
   "execution_count": 95,
   "id": "dae7b8a3",
   "metadata": {},
   "outputs": [
    {
     "name": "stdout",
     "output_type": "stream",
     "text": [
      "[0 0 0 ... 0 0 0]\n"
     ]
    }
   ],
   "source": [
    "#Importing the Packages\n",
    "from sklearn.discriminant_analysis import LinearDiscriminantAnalysis\n",
    "ld_clf = LinearDiscriminantAnalysis()\n",
    "ld_clf = ld_clf.fit(adult_tr, adult_tar_tr)\n",
    "ld_preds_te = ld_clf.predict(adult_te)\n",
    "print(ld_preds_te)"
   ]
  },
  {
   "cell_type": "code",
   "execution_count": 96,
   "id": "62143355",
   "metadata": {},
   "outputs": [
    {
     "name": "stdout",
     "output_type": "stream",
     "text": [
      "0.8115287554788152\n"
     ]
    }
   ],
   "source": [
    "print(ld_clf.score(adult_tr, adult_tar_tr))"
   ]
  },
  {
   "cell_type": "code",
   "execution_count": 97,
   "id": "5f1191d9",
   "metadata": {},
   "outputs": [
    {
     "name": "stdout",
     "output_type": "stream",
     "text": [
      "0.7992565055762082\n"
     ]
    }
   ],
   "source": [
    "print(ld_clf.score(adult_te, adult_tar_te))"
   ]
  },
  {
   "cell_type": "code",
   "execution_count": 98,
   "id": "870c8751",
   "metadata": {},
   "outputs": [
    {
     "name": "stdout",
     "output_type": "stream",
     "text": [
      "Score on Tr:  0.8115287554788152\n",
      "Score on Te:  0.7992565055762082\n"
     ]
    }
   ],
   "source": [
    "#Tr - Training\n",
    "#Te - Testing\n",
    "from sklearn.discriminant_analysis import LinearDiscriminantAnalysis\n",
    "ld_clf = LinearDiscriminantAnalysis()\n",
    "ld_clf = ld_clf.fit(adult_tr, adult_tar_tr)\n",
    "print (\"Score on Tr: \", ld_clf.score(adult_tr, adult_tar_tr))\n",
    "print (\"Score on Te: \", ld_clf.score(adult_te, adult_tar_te))"
   ]
  },
  {
   "cell_type": "code",
   "execution_count": 99,
   "id": "9fe80f8d",
   "metadata": {},
   "outputs": [
    {
     "name": "stdout",
     "output_type": "stream",
     "text": [
      "[0.81 0.81 0.81 0.8  0.82]\n"
     ]
    }
   ],
   "source": [
    "cross_val_scores_LDtrain = cross_val_score(ld_clf, adult_tr, adult_tar_tr, cv=5)\n",
    "print(cross_val_scores_LDtrain)"
   ]
  },
  {
   "cell_type": "code",
   "execution_count": 100,
   "id": "89b935a1",
   "metadata": {},
   "outputs": [
    {
     "name": "stdout",
     "output_type": "stream",
     "text": [
      "Overall Accuracy for tr: 0.81 (+/- 0.02)\n"
     ]
    }
   ],
   "source": [
    "print(\"Overall Accuracy for tr: %0.2f (+/- %0.2f)\" % (cross_val_scores_LDtrain.mean(), cross_val_scores.std() * 2))"
   ]
  },
  {
   "cell_type": "code",
   "execution_count": 101,
   "id": "287e6c00",
   "metadata": {},
   "outputs": [
    {
     "name": "stdout",
     "output_type": "stream",
     "text": [
      "[0.81 0.78 0.8  0.81 0.8 ]\n"
     ]
    }
   ],
   "source": [
    "cross_val_scores_LDtest = cross_val_score(ld_clf, adult_te, adult_tar_te, cv=5)\n",
    "print(cross_val_scores_LDtest)"
   ]
  },
  {
   "cell_type": "code",
   "execution_count": 102,
   "id": "56b28ad2",
   "metadata": {},
   "outputs": [
    {
     "name": "stdout",
     "output_type": "stream",
     "text": [
      "Overall Accuracy for te: 0.80 (+/- 0.02)\n"
     ]
    }
   ],
   "source": [
    "print(\"Overall Accuracy for te: %0.2f (+/- %0.2f)\" % (cross_val_scores_LDtest.mean(), cross_val_scores.std() * 2))"
   ]
  },
  {
   "cell_type": "markdown",
   "id": "eeca85b9",
   "metadata": {},
   "source": [
    "Hence, the highest overfitting is present in the Decision Tree without the parameters. Therefore, KNN with K = 27 has the best accuracy."
   ]
  }
 ],
 "metadata": {
  "kernelspec": {
   "display_name": "Python 3 (ipykernel)",
   "language": "python",
   "name": "python3"
  },
  "language_info": {
   "codemirror_mode": {
    "name": "ipython",
    "version": 3
   },
   "file_extension": ".py",
   "mimetype": "text/x-python",
   "name": "python",
   "nbconvert_exporter": "python",
   "pygments_lexer": "ipython3",
   "version": "3.9.12"
  }
 },
 "nbformat": 4,
 "nbformat_minor": 5
}
